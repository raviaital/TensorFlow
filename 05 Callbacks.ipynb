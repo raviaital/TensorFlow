{
 "cells": [
  {
   "cell_type": "markdown",
   "id": "757497e3-bf2d-41af-b68c-926265171339",
   "metadata": {},
   "source": [
    "# Callbacks\n",
    "\n",
    "The fit() method accepts a callbacks argument that lets you specify a list of objects that Keras will call during training at the start and end of training, at the start and end of each epoch and even before and after processing each batch. These are very useful in controlling how long a training should run, selecting the best model, logging etc."
   ]
  },
  {
   "cell_type": "code",
   "execution_count": 1,
   "id": "bc447361-4c55-4001-beae-31b130283127",
   "metadata": {},
   "outputs": [],
   "source": [
    "import numpy as np\n",
    "import pandas as pd\n",
    "import matplotlib.pyplot as plt\n",
    "import tensorflow as tf\n",
    "from tensorflow import keras"
   ]
  },
  {
   "cell_type": "code",
   "execution_count": 2,
   "id": "f721d975-dc34-4753-9770-60702cf6cb02",
   "metadata": {},
   "outputs": [],
   "source": [
    "from sklearn.datasets import fetch_california_housing\n",
    "from sklearn.model_selection import train_test_split\n",
    "from sklearn.preprocessing import StandardScaler"
   ]
  },
  {
   "cell_type": "code",
   "execution_count": 3,
   "id": "774c8596-5bba-494c-84a8-b92092dc0462",
   "metadata": {},
   "outputs": [],
   "source": [
    "housing = fetch_california_housing()\n",
    "\n",
    "X_train_full, X_test, y_train_full, y_test = train_test_split(housing.data, housing.target, random_state=42)\n",
    "X_train, X_valid, y_train, y_valid = train_test_split(X_train_full, y_train_full, random_state=42)\n",
    "\n",
    "scaler = StandardScaler()\n",
    "X_train = scaler.fit_transform(X_train)\n",
    "X_valid = scaler.transform(X_valid)\n",
    "X_test = scaler.transform(X_test)"
   ]
  },
  {
   "cell_type": "code",
   "execution_count": 4,
   "id": "52528268-17af-4798-820c-bda825d9a327",
   "metadata": {},
   "outputs": [],
   "source": [
    "np.random.seed(42)\n",
    "tf.random.set_seed(42)"
   ]
  },
  {
   "cell_type": "code",
   "execution_count": 5,
   "id": "474e4d59-47fc-4342-980c-a3b19830592c",
   "metadata": {},
   "outputs": [
    {
     "name": "stderr",
     "output_type": "stream",
     "text": [
      "2022-09-27 20:56:25.416529: I tensorflow/core/platform/cpu_feature_guard.cc:151] This TensorFlow binary is optimized with oneAPI Deep Neural Network Library (oneDNN) to use the following CPU instructions in performance-critical operations:  SSE4.1 SSE4.2 AVX AVX2 FMA\n",
      "To enable them in other operations, rebuild TensorFlow with the appropriate compiler flags.\n",
      "2022-09-27 20:56:25.419295: I tensorflow/core/common_runtime/process_util.cc:146] Creating new thread pool with default inter op setting: 2. Tune using inter_op_parallelism_threads for best performance.\n"
     ]
    }
   ],
   "source": [
    "model = keras.models.Sequential([\n",
    "    keras.layers.Dense(30, activation=\"relu\", input_shape=[8]),\n",
    "    keras.layers.Dense(30, activation=\"relu\"),\n",
    "    keras.layers.Dense(1)\n",
    "])    "
   ]
  },
  {
   "cell_type": "markdown",
   "id": "1455edef-d2df-4ce3-89e4-8f01121c8d8e",
   "metadata": {},
   "source": [
    "## Checkpoint Callbacks\n",
    "\n",
    "In case you are using validation set during training, you can set\n",
    "save_best_only=True when creating the ModelCheckpoint. This will ensure only the best model is saved for future usage."
   ]
  },
  {
   "cell_type": "code",
   "execution_count": 7,
   "id": "199aad5a-9fb9-401f-afc9-ca74641d3e22",
   "metadata": {},
   "outputs": [
    {
     "name": "stdout",
     "output_type": "stream",
     "text": [
      "Epoch 1/10\n",
      "363/363 [==============================] - 3s 7ms/step - loss: 1.8866 - val_loss: 0.7126\n",
      "Epoch 2/10\n",
      "363/363 [==============================] - 3s 7ms/step - loss: 0.6577 - val_loss: 0.6880\n",
      "Epoch 3/10\n",
      "363/363 [==============================] - 3s 9ms/step - loss: 0.5934 - val_loss: 0.5803\n",
      "Epoch 4/10\n",
      "363/363 [==============================] - 2s 6ms/step - loss: 0.5557 - val_loss: 0.5166\n",
      "Epoch 5/10\n",
      "363/363 [==============================] - 3s 7ms/step - loss: 0.5272 - val_loss: 0.4895\n",
      "Epoch 6/10\n",
      "363/363 [==============================] - 3s 7ms/step - loss: 0.5033 - val_loss: 0.4951\n",
      "Epoch 7/10\n",
      "363/363 [==============================] - 2s 6ms/step - loss: 0.4854 - val_loss: 0.4861\n",
      "Epoch 8/10\n",
      "363/363 [==============================] - 3s 7ms/step - loss: 0.4709 - val_loss: 0.4554\n",
      "Epoch 9/10\n",
      "363/363 [==============================] - 3s 7ms/step - loss: 0.4578 - val_loss: 0.4413\n",
      "Epoch 10/10\n",
      "363/363 [==============================] - 2s 7ms/step - loss: 0.4474 - val_loss: 0.4379\n",
      "162/162 [==============================] - 1s 5ms/step - loss: 0.4382\n"
     ]
    }
   ],
   "source": [
    "model.compile(loss=\"mse\", optimizer=keras.optimizers.SGD(learning_rate=1e-3))\n",
    "checkpoint_cb = keras.callbacks.ModelCheckpoint(\"my_keras_model.h5\", save_best_only=True)\n",
    "history = model.fit(X_train, y_train, epochs=10,\n",
    "                    validation_data=(X_valid, y_valid),\n",
    "                    callbacks=[checkpoint_cb])\n",
    "model = keras.models.load_model(\"my_keras_model.h5\") # rollback to best model\n",
    "mse_test = model.evaluate(X_test, y_test)"
   ]
  },
  {
   "cell_type": "code",
   "execution_count": 9,
   "id": "e86f3759-a43e-49f7-9b71-066549f35fdc",
   "metadata": {},
   "outputs": [],
   "source": [
    "X_new = X_test[:3]\n",
    "y_pred = model.predict(X_new)"
   ]
  },
  {
   "cell_type": "code",
   "execution_count": 10,
   "id": "d577c695-3c04-4374-844b-404fdbc04910",
   "metadata": {},
   "outputs": [
    {
     "data": {
      "text/plain": [
       "array([[0.54002357],\n",
       "       [1.650597  ],\n",
       "       [3.0098243 ]], dtype=float32)"
      ]
     },
     "execution_count": 10,
     "metadata": {},
     "output_type": "execute_result"
    }
   ],
   "source": [
    "y_pred"
   ]
  },
  {
   "cell_type": "code",
   "execution_count": 13,
   "id": "d311d1d3-c802-471b-ab39-b2668d91103a",
   "metadata": {},
   "outputs": [
    {
     "data": {
      "text/plain": [
       "array([0.477  , 0.458  , 5.00001])"
      ]
     },
     "execution_count": 13,
     "metadata": {},
     "output_type": "execute_result"
    }
   ],
   "source": [
    "y_test[:3]"
   ]
  },
  {
   "cell_type": "markdown",
   "id": "cf5e1c24-a4b5-4569-af62-1ebf146e6af3",
   "metadata": {},
   "source": [
    "## Callbacks for early stopping\n",
    "\n",
    "Another use of callbacks is in stopping the training if there is no meaningful improvement. This can be done using EarlyStopping callback.\n",
    "It will interrupt training when it measures no progress on the validation set for a number of epochs (defined by the patience argument), and it will optionally roll back to the best model. \n",
    "\n",
    "You can combine both callbacks to both save checkpoints of your model (in case your computer crashes), and actually interrupt training early\n",
    "when there is no more progress (to avoid wasting time and resources)"
   ]
  },
  {
   "cell_type": "code",
   "execution_count": 14,
   "id": "ff9d976b-dc4a-429e-ab49-35a08c925a36",
   "metadata": {},
   "outputs": [
    {
     "name": "stdout",
     "output_type": "stream",
     "text": [
      "Epoch 1/100\n",
      "363/363 [==============================] - 3s 6ms/step - loss: 0.4393 - val_loss: 0.4110\n",
      "Epoch 2/100\n",
      "363/363 [==============================] - 3s 7ms/step - loss: 0.4315 - val_loss: 0.4266\n",
      "Epoch 3/100\n",
      "363/363 [==============================] - 3s 7ms/step - loss: 0.4259 - val_loss: 0.3996\n",
      "Epoch 4/100\n",
      "363/363 [==============================] - 3s 8ms/step - loss: 0.4201 - val_loss: 0.3939\n",
      "Epoch 5/100\n",
      "363/363 [==============================] - 3s 8ms/step - loss: 0.4154 - val_loss: 0.3889\n",
      "Epoch 6/100\n",
      "363/363 [==============================] - 3s 9ms/step - loss: 0.4111 - val_loss: 0.3866\n",
      "Epoch 7/100\n",
      "363/363 [==============================] - 3s 7ms/step - loss: 0.4074 - val_loss: 0.3860\n",
      "Epoch 8/100\n",
      "363/363 [==============================] - 3s 9ms/step - loss: 0.4040 - val_loss: 0.3793\n",
      "Epoch 9/100\n",
      "363/363 [==============================] - 3s 8ms/step - loss: 0.4008 - val_loss: 0.3746\n",
      "Epoch 10/100\n",
      "363/363 [==============================] - 3s 9ms/step - loss: 0.3976 - val_loss: 0.3723\n",
      "Epoch 11/100\n",
      "363/363 [==============================] - 2s 5ms/step - loss: 0.3950 - val_loss: 0.3697\n",
      "Epoch 12/100\n",
      "363/363 [==============================] - 3s 7ms/step - loss: 0.3923 - val_loss: 0.3669\n",
      "Epoch 13/100\n",
      "363/363 [==============================] - 3s 9ms/step - loss: 0.3897 - val_loss: 0.3661\n",
      "Epoch 14/100\n",
      "363/363 [==============================] - 3s 9ms/step - loss: 0.3874 - val_loss: 0.3631\n",
      "Epoch 15/100\n",
      "363/363 [==============================] - 4s 10ms/step - loss: 0.3851 - val_loss: 0.3660\n",
      "Epoch 16/100\n",
      "363/363 [==============================] - 3s 8ms/step - loss: 0.3829 - val_loss: 0.3625\n",
      "Epoch 17/100\n",
      "363/363 [==============================] - 2s 7ms/step - loss: 0.3810 - val_loss: 0.3592\n",
      "Epoch 18/100\n",
      "363/363 [==============================] - 2s 7ms/step - loss: 0.3788 - val_loss: 0.3563\n",
      "Epoch 19/100\n",
      "363/363 [==============================] - 4s 10ms/step - loss: 0.3766 - val_loss: 0.3535\n",
      "Epoch 20/100\n",
      "363/363 [==============================] - 3s 9ms/step - loss: 0.3750 - val_loss: 0.3709\n",
      "Epoch 21/100\n",
      "363/363 [==============================] - 3s 9ms/step - loss: 0.3732 - val_loss: 0.3512\n",
      "Epoch 22/100\n",
      "363/363 [==============================] - 3s 8ms/step - loss: 0.3715 - val_loss: 0.3699\n",
      "Epoch 23/100\n",
      "363/363 [==============================] - 2s 7ms/step - loss: 0.3700 - val_loss: 0.3476\n",
      "Epoch 24/100\n",
      "363/363 [==============================] - 3s 8ms/step - loss: 0.3685 - val_loss: 0.3561\n",
      "Epoch 25/100\n",
      "363/363 [==============================] - 2s 6ms/step - loss: 0.3671 - val_loss: 0.3527\n",
      "Epoch 26/100\n",
      "363/363 [==============================] - 3s 9ms/step - loss: 0.3658 - val_loss: 0.3700\n",
      "Epoch 27/100\n",
      "363/363 [==============================] - 2s 6ms/step - loss: 0.3647 - val_loss: 0.3432\n",
      "Epoch 28/100\n",
      "363/363 [==============================] - 3s 8ms/step - loss: 0.3635 - val_loss: 0.3592\n",
      "Epoch 29/100\n",
      "363/363 [==============================] - 3s 8ms/step - loss: 0.3625 - val_loss: 0.3521\n",
      "Epoch 30/100\n",
      "363/363 [==============================] - 3s 9ms/step - loss: 0.3613 - val_loss: 0.3626\n",
      "Epoch 31/100\n",
      "363/363 [==============================] - 2s 6ms/step - loss: 0.3601 - val_loss: 0.3431\n",
      "Epoch 32/100\n",
      "363/363 [==============================] - 2s 6ms/step - loss: 0.3589 - val_loss: 0.3766\n",
      "Epoch 33/100\n",
      "363/363 [==============================] - 2s 5ms/step - loss: 0.3584 - val_loss: 0.3374\n",
      "Epoch 34/100\n",
      "363/363 [==============================] - 2s 7ms/step - loss: 0.3572 - val_loss: 0.3407\n",
      "Epoch 35/100\n",
      "363/363 [==============================] - 3s 8ms/step - loss: 0.3563 - val_loss: 0.3614\n",
      "Epoch 36/100\n",
      "363/363 [==============================] - 3s 9ms/step - loss: 0.3555 - val_loss: 0.3348\n",
      "Epoch 37/100\n",
      "363/363 [==============================] - 2s 5ms/step - loss: 0.3546 - val_loss: 0.3573\n",
      "Epoch 38/100\n",
      "363/363 [==============================] - 2s 6ms/step - loss: 0.3538 - val_loss: 0.3367\n",
      "Epoch 39/100\n",
      "363/363 [==============================] - 3s 9ms/step - loss: 0.3530 - val_loss: 0.3425\n",
      "Epoch 40/100\n",
      "363/363 [==============================] - 3s 8ms/step - loss: 0.3523 - val_loss: 0.3368\n",
      "Epoch 41/100\n",
      "363/363 [==============================] - 2s 6ms/step - loss: 0.3515 - val_loss: 0.3514\n",
      "Epoch 42/100\n",
      "363/363 [==============================] - 3s 7ms/step - loss: 0.3511 - val_loss: 0.3426\n",
      "Epoch 43/100\n",
      "363/363 [==============================] - 3s 7ms/step - loss: 0.3500 - val_loss: 0.3677\n",
      "Epoch 44/100\n",
      "363/363 [==============================] - 3s 7ms/step - loss: 0.3496 - val_loss: 0.3563\n",
      "Epoch 45/100\n",
      "363/363 [==============================] - 3s 7ms/step - loss: 0.3490 - val_loss: 0.3336\n",
      "Epoch 46/100\n",
      "363/363 [==============================] - 3s 8ms/step - loss: 0.3481 - val_loss: 0.3456\n",
      "Epoch 47/100\n",
      "363/363 [==============================] - 2s 6ms/step - loss: 0.3478 - val_loss: 0.3434\n",
      "Epoch 48/100\n",
      "363/363 [==============================] - 3s 8ms/step - loss: 0.3471 - val_loss: 0.3656\n",
      "Epoch 49/100\n",
      "363/363 [==============================] - 2s 5ms/step - loss: 0.3466 - val_loss: 0.3287\n",
      "Epoch 50/100\n",
      "363/363 [==============================] - 2s 6ms/step - loss: 0.3460 - val_loss: 0.3268\n",
      "Epoch 51/100\n",
      "363/363 [==============================] - 2s 6ms/step - loss: 0.3454 - val_loss: 0.3439\n",
      "Epoch 52/100\n",
      "363/363 [==============================] - 3s 7ms/step - loss: 0.3449 - val_loss: 0.3263\n",
      "Epoch 53/100\n",
      "363/363 [==============================] - 3s 8ms/step - loss: 0.3444 - val_loss: 0.3911\n",
      "Epoch 54/100\n",
      "363/363 [==============================] - 2s 5ms/step - loss: 0.3439 - val_loss: 0.3275\n",
      "Epoch 55/100\n",
      "363/363 [==============================] - 3s 8ms/step - loss: 0.3435 - val_loss: 0.3560\n",
      "Epoch 56/100\n",
      "363/363 [==============================] - 3s 8ms/step - loss: 0.3430 - val_loss: 0.3237\n",
      "Epoch 57/100\n",
      "363/363 [==============================] - 3s 8ms/step - loss: 0.3423 - val_loss: 0.3242\n",
      "Epoch 58/100\n",
      "363/363 [==============================] - 3s 8ms/step - loss: 0.3419 - val_loss: 0.3765\n",
      "Epoch 59/100\n",
      "363/363 [==============================] - 3s 7ms/step - loss: 0.3417 - val_loss: 0.3290\n",
      "Epoch 60/100\n",
      "363/363 [==============================] - 2s 7ms/step - loss: 0.3410 - val_loss: 0.3501\n",
      "Epoch 61/100\n",
      "363/363 [==============================] - 2s 7ms/step - loss: 0.3404 - val_loss: 0.3457\n",
      "Epoch 62/100\n",
      "363/363 [==============================] - 3s 7ms/step - loss: 0.3402 - val_loss: 0.3444\n",
      "Epoch 63/100\n",
      "363/363 [==============================] - 3s 9ms/step - loss: 0.3393 - val_loss: 0.3291\n",
      "Epoch 64/100\n",
      "363/363 [==============================] - 2s 6ms/step - loss: 0.3393 - val_loss: 0.3217\n",
      "Epoch 65/100\n",
      "363/363 [==============================] - 3s 9ms/step - loss: 0.3387 - val_loss: 0.3351\n",
      "Epoch 66/100\n",
      "363/363 [==============================] - 3s 7ms/step - loss: 0.3383 - val_loss: 0.3232\n",
      "Epoch 67/100\n",
      "363/363 [==============================] - 3s 10ms/step - loss: 0.3376 - val_loss: 0.3568\n",
      "Epoch 68/100\n",
      "363/363 [==============================] - 3s 8ms/step - loss: 0.3375 - val_loss: 0.3256\n",
      "Epoch 69/100\n",
      "363/363 [==============================] - 3s 8ms/step - loss: 0.3370 - val_loss: 0.3349\n",
      "Epoch 70/100\n",
      "363/363 [==============================] - 3s 8ms/step - loss: 0.3365 - val_loss: 0.3558\n",
      "Epoch 71/100\n",
      "363/363 [==============================] - 2s 7ms/step - loss: 0.3361 - val_loss: 0.3583\n",
      "Epoch 72/100\n",
      "363/363 [==============================] - 3s 8ms/step - loss: 0.3357 - val_loss: 0.3287\n",
      "Epoch 73/100\n",
      "363/363 [==============================] - 3s 9ms/step - loss: 0.3351 - val_loss: 0.3202\n",
      "Epoch 74/100\n",
      "363/363 [==============================] - 4s 11ms/step - loss: 0.3350 - val_loss: 0.3841\n",
      "Epoch 75/100\n",
      "363/363 [==============================] - 2s 7ms/step - loss: 0.3347 - val_loss: 0.3234\n",
      "Epoch 76/100\n",
      "363/363 [==============================] - 3s 8ms/step - loss: 0.3342 - val_loss: 0.3476\n",
      "Epoch 77/100\n",
      "363/363 [==============================] - 3s 8ms/step - loss: 0.3338 - val_loss: 0.3408\n",
      "Epoch 78/100\n",
      "363/363 [==============================] - 3s 8ms/step - loss: 0.3335 - val_loss: 0.3461\n",
      "Epoch 79/100\n",
      "363/363 [==============================] - 4s 10ms/step - loss: 0.3332 - val_loss: 0.3348\n",
      "Epoch 80/100\n",
      "363/363 [==============================] - 4s 11ms/step - loss: 0.3329 - val_loss: 0.3354\n",
      "Epoch 81/100\n",
      "363/363 [==============================] - 4s 11ms/step - loss: 0.3324 - val_loss: 0.3274\n",
      "Epoch 82/100\n",
      "363/363 [==============================] - 3s 7ms/step - loss: 0.3320 - val_loss: 0.3167\n",
      "Epoch 83/100\n",
      "363/363 [==============================] - 4s 10ms/step - loss: 0.3317 - val_loss: 0.3279\n",
      "Epoch 84/100\n",
      "363/363 [==============================] - 3s 10ms/step - loss: 0.3312 - val_loss: 0.3635\n",
      "Epoch 85/100\n",
      "363/363 [==============================] - 3s 9ms/step - loss: 0.3310 - val_loss: 0.3174\n",
      "Epoch 86/100\n",
      "363/363 [==============================] - 5s 13ms/step - loss: 0.3308 - val_loss: 0.3156\n",
      "Epoch 87/100\n",
      "363/363 [==============================] - 4s 11ms/step - loss: 0.3305 - val_loss: 0.3528\n",
      "Epoch 88/100\n",
      "363/363 [==============================] - 3s 8ms/step - loss: 0.3299 - val_loss: 0.3257\n",
      "Epoch 89/100\n",
      "363/363 [==============================] - 4s 12ms/step - loss: 0.3294 - val_loss: 0.3632\n",
      "Epoch 90/100\n",
      "363/363 [==============================] - 4s 12ms/step - loss: 0.3296 - val_loss: 0.3380\n",
      "Epoch 91/100\n",
      "363/363 [==============================] - 3s 8ms/step - loss: 0.3291 - val_loss: 0.3212\n",
      "Epoch 92/100\n",
      "363/363 [==============================] - 4s 10ms/step - loss: 0.3287 - val_loss: 0.3457\n",
      "Epoch 93/100\n",
      "363/363 [==============================] - 2s 5ms/step - loss: 0.3285 - val_loss: 0.3159\n",
      "Epoch 94/100\n",
      "363/363 [==============================] - 2s 4ms/step - loss: 0.3281 - val_loss: 0.3411\n",
      "Epoch 95/100\n",
      "363/363 [==============================] - 2s 5ms/step - loss: 0.3276 - val_loss: 0.3380\n",
      "Epoch 96/100\n",
      "363/363 [==============================] - 2s 5ms/step - loss: 0.3273 - val_loss: 0.3215\n",
      "162/162 [==============================] - 1s 8ms/step - loss: 0.3310\n"
     ]
    }
   ],
   "source": [
    "model.compile(loss=\"mse\", optimizer=keras.optimizers.SGD(learning_rate=1e-3))\n",
    "early_stopping_cb = keras.callbacks.EarlyStopping(patience=10,\n",
    "                                                  restore_best_weights=True)\n",
    "history = model.fit(X_train, y_train, epochs=100,\n",
    "                    validation_data=(X_valid, y_valid),\n",
    "                    callbacks=[checkpoint_cb, early_stopping_cb])\n",
    "mse_test = model.evaluate(X_test, y_test)"
   ]
  },
  {
   "cell_type": "markdown",
   "id": "56876832-b28a-4bb2-ba7c-8039c18f4352",
   "metadata": {},
   "source": [
    "Note that though the number of epochs were set to 100 the trainnig stopped after 96 epochs"
   ]
  },
  {
   "cell_type": "code",
   "execution_count": 15,
   "id": "29af91a3-d906-4c82-8501-3feb05285e82",
   "metadata": {},
   "outputs": [
    {
     "name": "stdout",
     "output_type": "stream",
     "text": [
      "[[0.66073924]\n",
      " [1.7387562 ]\n",
      " [4.1999645 ]] [0.477   0.458   5.00001]\n"
     ]
    }
   ],
   "source": [
    "y_pred = model.predict(X_new)\n",
    "print(y_pred, y_test[:3])"
   ]
  },
  {
   "cell_type": "markdown",
   "id": "2dc90389-1dda-4cce-8d82-637406cb0eea",
   "metadata": {},
   "source": [
    "## Callbacks for extra control\n",
    "\n",
    "If you need extra control, you can easily write your own custom callbacks. For example, the following custom callback will display the ratio between the validation loss and the training loss during training (e.g., to detect overfitting):"
   ]
  },
  {
   "cell_type": "markdown",
   "id": "3f2ffc48-795a-40ad-9c75-bf3d88081243",
   "metadata": {},
   "source": [
    "class PrintValTrainRatioCallback(keras.callbacks.Callback):\n",
    "    def on_epoch_end(self, epoch, logs):\n",
    "        print(\"\\nval/train: {:.2f}\".format(logs[\"val_loss\"] / logs[\"loss\"]))"
   ]
  },
  {
   "cell_type": "code",
   "execution_count": 17,
   "id": "9d6cf0a4-5502-484d-b123-409b5632777f",
   "metadata": {},
   "outputs": [
    {
     "name": "stdout",
     "output_type": "stream",
     "text": [
      "357/363 [============================>.] - ETA: 0s - loss: 0.3294\n",
      "val/train: 1.08\n",
      "363/363 [==============================] - 3s 8ms/step - loss: 0.3302 - val_loss: 0.3557\n"
     ]
    }
   ],
   "source": [
    "val_train_ratio_cb = PrintValTrainRatioCallback()\n",
    "history = model.fit(X_train, y_train, epochs=1,\n",
    "                    validation_data=(X_valid, y_valid),\n",
    "                    callbacks=[val_train_ratio_cb])"
   ]
  },
  {
   "cell_type": "markdown",
   "id": "7807ad78-b644-451d-968b-f0433d8146f2",
   "metadata": {},
   "source": [
    "You can implement \n",
    "\n",
    "- on_train_begin(), \n",
    "- on_train_end(),\n",
    "- on_epoch_begin(),\n",
    "- on_epoch_begin(),\n",
    "- on_batch_end() and \n",
    "- on_batch_end().\n",
    "\n",
    "Moreover, callbacks can also be used during evaluation and predictions, \n",
    "should you ever need them (e.g., for debugging). \n",
    "\n",
    "In this case, you should implement\n",
    "\n",
    "- on_test_begin(),\n",
    "- on_test_end(),\n",
    "- on_test_batch_begin(),\n",
    "\n",
    "or\n",
    "\n",
    "- on_test_batch_end() ( called by evaluate() ),\n",
    "\n",
    "or \n",
    "\n",
    "- on_predict_begin(),\n",
    "- on_predict_end(), \n",
    "- on_predict_batch_begin(), \n",
    "\n",
    "or\n",
    "\n",
    "- on_predict_batch_end() ( called by predict() )."
   ]
  },
  {
   "cell_type": "code",
   "execution_count": null,
   "id": "e3a4f4a2-3e9d-4f53-95c3-a5e9e268e965",
   "metadata": {},
   "outputs": [],
   "source": []
  }
 ],
 "metadata": {
  "kernelspec": {
   "display_name": "Python 3 (ipykernel)",
   "language": "python",
   "name": "python3"
  },
  "language_info": {
   "codemirror_mode": {
    "name": "ipython",
    "version": 3
   },
   "file_extension": ".py",
   "mimetype": "text/x-python",
   "name": "python",
   "nbconvert_exporter": "python",
   "pygments_lexer": "ipython3",
   "version": "3.7.13"
  }
 },
 "nbformat": 4,
 "nbformat_minor": 5
}
