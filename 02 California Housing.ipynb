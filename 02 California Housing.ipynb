{
 "cells": [
  {
   "cell_type": "markdown",
   "id": "824409e8-a8e1-41ef-9038-47af270c9553",
   "metadata": {},
   "source": [
    "# California Housing Regression MLP"
   ]
  },
  {
   "cell_type": "markdown",
   "id": "69ebdc64-a337-4a0e-9526-5d705a1c8ae0",
   "metadata": {},
   "source": [
    "We will use Scikit-Learn’s fetch_california_housing to get the dataset. This is a simple dataset with no missing values"
   ]
  },
  {
   "cell_type": "code",
   "execution_count": 1,
   "id": "bbc96f70-9aec-4218-b430-d048410973d7",
   "metadata": {},
   "outputs": [],
   "source": [
    "import numpy as np\n",
    "import pandas as pd\n",
    "import matplotlib.pyplot as plt\n",
    "import tensorflow as tf\n",
    "from tensorflow import keras"
   ]
  },
  {
   "cell_type": "code",
   "execution_count": 2,
   "id": "a1bffac0-d686-4d50-84aa-7b216cf1780f",
   "metadata": {},
   "outputs": [],
   "source": [
    "from sklearn.datasets import fetch_california_housing\n",
    "from sklearn.model_selection import train_test_split\n",
    "from sklearn.preprocessing import StandardScaler"
   ]
  },
  {
   "cell_type": "code",
   "execution_count": 3,
   "id": "78961db5-89bc-41be-a1dd-13e5530b12ea",
   "metadata": {},
   "outputs": [],
   "source": [
    "housing = fetch_california_housing()\n",
    "\n",
    "X_train_full, X_test, y_train_full, y_test = train_test_split(\n",
    "    housing.data, housing.target)\n",
    "\n",
    "X_train, X_valid, y_train, y_valid = train_test_split(\n",
    "    X_train_full, y_train_full)"
   ]
  },
  {
   "cell_type": "code",
   "execution_count": 4,
   "id": "b3f442f7-090e-4769-bba4-4bf123d517a5",
   "metadata": {},
   "outputs": [
    {
     "data": {
      "text/plain": [
       "array([[   4.9688    ,   35.        ,    5.38059701, ...,    2.96641791,\n",
       "          34.25      , -118.48      ],\n",
       "       [   1.        ,   52.        ,    3.92708333, ...,    5.52083333,\n",
       "          36.75      , -119.79      ],\n",
       "       [   6.5615    ,    8.        ,    6.27048586, ...,    3.63959391,\n",
       "          37.57      , -122.07      ],\n",
       "       ...,\n",
       "       [   7.3445    ,   13.        ,    7.89772727, ...,    3.22727273,\n",
       "          37.89      , -121.93      ],\n",
       "       [   1.6384    ,   42.        ,    3.76738609, ...,    3.91127098,\n",
       "          33.79      , -118.18      ],\n",
       "       [   3.6591    ,   52.        ,    4.93190661, ...,    2.12840467,\n",
       "          37.84      , -122.25      ]])"
      ]
     },
     "execution_count": 4,
     "metadata": {},
     "output_type": "execute_result"
    }
   ],
   "source": [
    "X_train_full"
   ]
  },
  {
   "cell_type": "markdown",
   "id": "91832dc1-131c-4354-875f-2484c2730918",
   "metadata": {},
   "source": [
    "Regression tasks need a scaled parameters"
   ]
  },
  {
   "cell_type": "code",
   "execution_count": 5,
   "id": "a3936423-d905-47de-ab4c-5a9b5a1d8a4e",
   "metadata": {},
   "outputs": [],
   "source": [
    "scaler = StandardScaler()\n",
    "X_train_scaled = scaler.fit_transform(X_train)\n",
    "X_valid_scaled = scaler.transform(X_valid)\n",
    "X_test_scaled = scaler.transform(X_test)"
   ]
  },
  {
   "cell_type": "markdown",
   "id": "0b409578-4b14-4325-901b-42e00dab3f9a",
   "metadata": {},
   "source": [
    "## Model Creation"
   ]
  },
  {
   "cell_type": "markdown",
   "id": "0c1df7ca-065d-487c-8e24-2463efff8202",
   "metadata": {},
   "source": [
    "In case of regression, the output layer has a single neuron (since we only want to\n",
    "predict a single value) and uses no activation function. The loss function is the\n",
    "mean squared error. Since the dataset is quite noisy, we just use a single hidden layer\n",
    "with fewer neurons than before, to avoid overfitting."
   ]
  },
  {
   "cell_type": "code",
   "execution_count": 6,
   "id": "b101c8bc-7f5e-4334-918a-1a2b46169aba",
   "metadata": {},
   "outputs": [
    {
     "name": "stderr",
     "output_type": "stream",
     "text": [
      "2022-09-25 11:43:29.426544: I tensorflow/core/platform/cpu_feature_guard.cc:151] This TensorFlow binary is optimized with oneAPI Deep Neural Network Library (oneDNN) to use the following CPU instructions in performance-critical operations:  SSE4.1 SSE4.2 AVX AVX2 FMA\n",
      "To enable them in other operations, rebuild TensorFlow with the appropriate compiler flags.\n",
      "2022-09-25 11:43:29.429549: I tensorflow/core/common_runtime/process_util.cc:146] Creating new thread pool with default inter op setting: 2. Tune using inter_op_parallelism_threads for best performance.\n"
     ]
    }
   ],
   "source": [
    "model = keras.models.Sequential([\n",
    "    keras.layers.Dense(30, activation=\"relu\", input_shape=X_train.shape[1:]),\n",
    "    keras.layers.Dense(1)\n",
    "])"
   ]
  },
  {
   "cell_type": "markdown",
   "id": "b83d1e5a-adf9-47a9-8bae-69e602585e34",
   "metadata": {},
   "source": [
    "## Model Compiling"
   ]
  },
  {
   "cell_type": "code",
   "execution_count": 7,
   "id": "c31a1a26-35c0-4e8d-95f4-c2c0faeec33a",
   "metadata": {},
   "outputs": [],
   "source": [
    "model.compile(loss=\"mean_squared_error\", optimizer=\"sgd\")"
   ]
  },
  {
   "cell_type": "markdown",
   "id": "ddfd90e9-3f5b-4e7b-b4d8-851727c40653",
   "metadata": {},
   "source": [
    "## Model Training"
   ]
  },
  {
   "cell_type": "code",
   "execution_count": 8,
   "id": "e7a5e39e-d635-4692-b04a-612287b3236e",
   "metadata": {},
   "outputs": [
    {
     "name": "stdout",
     "output_type": "stream",
     "text": [
      "Epoch 1/20\n",
      "363/363 [==============================] - 3s 7ms/step - loss: 2248883005288941008843702272.0000 - val_loss: 156771481705231941632.0000\n",
      "Epoch 2/20\n",
      "363/363 [==============================] - 3s 8ms/step - loss: 10911630359862968320.0000 - val_loss: 66895717859328.0000\n",
      "Epoch 3/20\n",
      "363/363 [==============================] - 2s 5ms/step - loss: 4656079044608.0000 - val_loss: 28545364.0000\n",
      "Epoch 4/20\n",
      "363/363 [==============================] - 2s 7ms/step - loss: 1986791.7500 - val_loss: 13.7270\n",
      "Epoch 5/20\n",
      "363/363 [==============================] - 3s 8ms/step - loss: 2.2081 - val_loss: 1.2867\n",
      "Epoch 6/20\n",
      "363/363 [==============================] - 4s 10ms/step - loss: 1.3428 - val_loss: 1.2902\n",
      "Epoch 7/20\n",
      "363/363 [==============================] - 2s 6ms/step - loss: 1.3429 - val_loss: 1.2871\n",
      "Epoch 8/20\n",
      "363/363 [==============================] - 4s 10ms/step - loss: 1.3423 - val_loss: 1.2903\n",
      "Epoch 9/20\n",
      "363/363 [==============================] - 3s 8ms/step - loss: 1.3431 - val_loss: 1.2864\n",
      "Epoch 10/20\n",
      "363/363 [==============================] - 3s 7ms/step - loss: 1.3431 - val_loss: 1.2879\n",
      "Epoch 11/20\n",
      "363/363 [==============================] - 2s 6ms/step - loss: 1.3431 - val_loss: 1.2882\n",
      "Epoch 12/20\n",
      "363/363 [==============================] - 3s 9ms/step - loss: 1.3426 - val_loss: 1.2883\n",
      "Epoch 13/20\n",
      "363/363 [==============================] - 3s 7ms/step - loss: 1.3432 - val_loss: 1.2882\n",
      "Epoch 14/20\n",
      "363/363 [==============================] - 2s 5ms/step - loss: 1.3430 - val_loss: 1.2899\n",
      "Epoch 15/20\n",
      "363/363 [==============================] - 2s 7ms/step - loss: 1.3431 - val_loss: 1.2889\n",
      "Epoch 16/20\n",
      "363/363 [==============================] - 2s 6ms/step - loss: 1.3431 - val_loss: 1.2876\n",
      "Epoch 17/20\n",
      "363/363 [==============================] - 2s 5ms/step - loss: 1.3432 - val_loss: 1.2886\n",
      "Epoch 18/20\n",
      "363/363 [==============================] - 3s 8ms/step - loss: 1.3429 - val_loss: 1.2892\n",
      "Epoch 19/20\n",
      "363/363 [==============================] - 1s 4ms/step - loss: 1.3432 - val_loss: 1.2868\n",
      "Epoch 20/20\n",
      "363/363 [==============================] - 3s 7ms/step - loss: 1.3429 - val_loss: 1.2890\n"
     ]
    }
   ],
   "source": [
    "history = model.fit(X_train, y_train, epochs=20, validation_data=(X_valid, y_valid))"
   ]
  },
  {
   "cell_type": "markdown",
   "id": "0ea9cd95-8809-450a-956b-19b6d1465a29",
   "metadata": {},
   "source": [
    "## Evaluation and Testing"
   ]
  },
  {
   "cell_type": "code",
   "execution_count": 9,
   "id": "defd3c12-89e4-43d5-ba7e-b00146e1b7f3",
   "metadata": {},
   "outputs": [
    {
     "name": "stdout",
     "output_type": "stream",
     "text": [
      "162/162 [==============================] - 1s 5ms/step - loss: 1.3400\n"
     ]
    }
   ],
   "source": [
    "mse_test = model.evaluate(X_test, y_test)\n",
    "X_new = X_test[:3] # pretend these are new instances\n",
    "y_pred = model.predict(X_new)"
   ]
  },
  {
   "cell_type": "code",
   "execution_count": 10,
   "id": "bd87a29a-6aca-4e15-b33b-201425d617b0",
   "metadata": {},
   "outputs": [
    {
     "data": {
      "text/plain": [
       "array([[2.088968],\n",
       "       [2.088968],\n",
       "       [2.088968]], dtype=float32)"
      ]
     },
     "execution_count": 10,
     "metadata": {},
     "output_type": "execute_result"
    }
   ],
   "source": [
    "y_pred"
   ]
  },
  {
   "cell_type": "code",
   "execution_count": 11,
   "id": "2a91c507-c5b9-41f0-9aaa-34e1e9a623fa",
   "metadata": {},
   "outputs": [
    {
     "data": {
      "text/plain": [
       "array([5.00001, 1.508  , 5.00001])"
      ]
     },
     "execution_count": 11,
     "metadata": {},
     "output_type": "execute_result"
    }
   ],
   "source": [
    "y_test[:3]"
   ]
  },
  {
   "cell_type": "markdown",
   "id": "71d28c9f-b4de-4339-a8cd-6223b4cfc678",
   "metadata": {},
   "source": [
    "As you can see the model prediction is not near to the actuals. This means a lot of tuning is needed"
   ]
  },
  {
   "cell_type": "code",
   "execution_count": null,
   "id": "47284fd6-8e7a-4197-b751-1e3f570b1e30",
   "metadata": {},
   "outputs": [],
   "source": []
  }
 ],
 "metadata": {
  "kernelspec": {
   "display_name": "Python 3 (ipykernel)",
   "language": "python",
   "name": "python3"
  },
  "language_info": {
   "codemirror_mode": {
    "name": "ipython",
    "version": 3
   },
   "file_extension": ".py",
   "mimetype": "text/x-python",
   "name": "python",
   "nbconvert_exporter": "python",
   "pygments_lexer": "ipython3",
   "version": "3.7.13"
  }
 },
 "nbformat": 4,
 "nbformat_minor": 5
}
