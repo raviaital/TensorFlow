{
 "cells": [
  {
   "cell_type": "markdown",
   "id": "1c2ef42a-8160-45ea-a6e5-3548d84ce894",
   "metadata": {},
   "source": [
    "# Fashion MNIST\n",
    "\n",
    "In this notebook we will build an Image Classifier using the Sequential API.\n",
    "The dataset used is Fashion MNIST which has 70,000 grayscale images of 28×28 pixels each, with 10 classes representing fashion items"
   ]
  },
  {
   "cell_type": "markdown",
   "id": "a2ecf364-1d88-47e4-b6fd-e97e7cf593cc",
   "metadata": {},
   "source": [
    "Let's start with loading necessary libraries"
   ]
  },
  {
   "cell_type": "code",
   "execution_count": 1,
   "id": "858a0d8d-bcf4-4fa9-917d-fb1b1ddedec9",
   "metadata": {},
   "outputs": [],
   "source": [
    "import numpy as np\n",
    "import matplotlib.pyplot as plt\n",
    "import pandas as pd\n",
    "\n",
    "import tensorflow as tf\n",
    "from tensorflow import keras"
   ]
  },
  {
   "cell_type": "code",
   "execution_count": 2,
   "id": "bfb1b726-22fe-4200-af03-72c8465e389e",
   "metadata": {},
   "outputs": [
    {
     "data": {
      "text/plain": [
       "'2.8.2'"
      ]
     },
     "execution_count": 2,
     "metadata": {},
     "output_type": "execute_result"
    }
   ],
   "source": [
    "tf.__version__"
   ]
  },
  {
   "cell_type": "code",
   "execution_count": 3,
   "id": "15c411c3-96c2-403b-9ef0-a64ae1f3d67d",
   "metadata": {},
   "outputs": [
    {
     "data": {
      "text/plain": [
       "'2.8.0'"
      ]
     },
     "execution_count": 3,
     "metadata": {},
     "output_type": "execute_result"
    }
   ],
   "source": [
    "keras.__version__"
   ]
  },
  {
   "cell_type": "markdown",
   "id": "b4fe4c89-12f1-468a-ab6e-9cc3336f1055",
   "metadata": {},
   "source": [
    "Fashion MNIST is part of the keras datasets. The load_data() function gives the training and testing datasets"
   ]
  },
  {
   "cell_type": "code",
   "execution_count": 4,
   "id": "f0234dda-c578-4ff8-adc4-b1ca5d8235e1",
   "metadata": {},
   "outputs": [],
   "source": [
    "fashion_mnist = keras.datasets.fashion_mnist\n",
    "(X_train_full, y_train_full), (X_test, y_test) = fashion_mnist.load_data()"
   ]
  },
  {
   "cell_type": "markdown",
   "id": "0196eba4-9d6c-4900-af80-5242973c19a8",
   "metadata": {},
   "source": [
    "Let's see the shape and type of the train set"
   ]
  },
  {
   "cell_type": "code",
   "execution_count": 5,
   "id": "4de8adb0-8179-43a6-af17-a6c46e616342",
   "metadata": {},
   "outputs": [
    {
     "data": {
      "text/plain": [
       "(60000, 28, 28)"
      ]
     },
     "execution_count": 5,
     "metadata": {},
     "output_type": "execute_result"
    }
   ],
   "source": [
    "X_train_full.shape"
   ]
  },
  {
   "cell_type": "code",
   "execution_count": 6,
   "id": "42311765-9fc4-4b1f-afee-4dec54848834",
   "metadata": {},
   "outputs": [
    {
     "data": {
      "text/plain": [
       "dtype('uint8')"
      ]
     },
     "execution_count": 6,
     "metadata": {},
     "output_type": "execute_result"
    }
   ],
   "source": [
    "X_train_full.dtype"
   ]
  },
  {
   "cell_type": "markdown",
   "id": "70d3ed9f-03fb-4674-8a63-8a015ca6d267",
   "metadata": {},
   "source": [
    "Note that every image is represented as a 28×28 array rather than a\n",
    "1D array of size 784. Moreover, the pixel intensities are represented as integers (from\n",
    "0 to 255) rather than floats (from 0.0 to 255.0)"
   ]
  },
  {
   "cell_type": "markdown",
   "id": "419730a0-938c-4cd8-9ef5-76aef6f87707",
   "metadata": {},
   "source": [
    "Note that the dataset is already split into a training set and a test set, but there is no\n",
    "validation set, so let’s create one. Moreover, since we are going to train the neural network using Gradient Descent, we must scale the input features."
   ]
  },
  {
   "cell_type": "code",
   "execution_count": 7,
   "id": "392fdd17-081b-43d2-82fb-09e8bd7a3818",
   "metadata": {},
   "outputs": [],
   "source": [
    "X_valid, X_train = X_train_full[:5000] / 255.0, X_train_full[5000:] / 255.0\n",
    "y_valid, y_train = y_train_full[:5000], y_train_full[5000:]"
   ]
  },
  {
   "cell_type": "code",
   "execution_count": 8,
   "id": "b59bfd82-7a10-4e52-b198-9f2329d296fd",
   "metadata": {},
   "outputs": [
    {
     "data": {
      "text/plain": [
       "4"
      ]
     },
     "execution_count": 8,
     "metadata": {},
     "output_type": "execute_result"
    }
   ],
   "source": [
    "y_train[0]"
   ]
  },
  {
   "cell_type": "markdown",
   "id": "fbb66724-a289-4e4a-85ef-4823a2079e6f",
   "metadata": {},
   "source": [
    "From the description in keras.datasets we get the labels for each classes"
   ]
  },
  {
   "cell_type": "code",
   "execution_count": 9,
   "id": "49e018a3-ae3e-494b-90d8-aebfa83a1e4b",
   "metadata": {},
   "outputs": [],
   "source": [
    "class_names = [\"T-shirt/top\", \"Trouser\", \"Pullover\", \"Dress\", \"Coat\",\n",
    "\"Sandal\", \"Shirt\", \"Sneaker\", \"Bag\", \"Ankle boot\"]"
   ]
  },
  {
   "cell_type": "code",
   "execution_count": 10,
   "id": "beaf3ba3-bae5-4b9c-905c-d25511877050",
   "metadata": {},
   "outputs": [
    {
     "data": {
      "text/plain": [
       "'Coat'"
      ]
     },
     "execution_count": 10,
     "metadata": {},
     "output_type": "execute_result"
    }
   ],
   "source": [
    "class_names[y_train[0]]"
   ]
  },
  {
   "cell_type": "markdown",
   "id": "e359d9a2-aba3-4288-8e57-b06fe571c7c3",
   "metadata": {},
   "source": [
    "Now let's create a classification MLP with two hidden layers"
   ]
  },
  {
   "cell_type": "code",
   "execution_count": 11,
   "id": "35fff1f9-aa18-4636-8dc5-77cd914a401d",
   "metadata": {},
   "outputs": [
    {
     "name": "stderr",
     "output_type": "stream",
     "text": [
      "2022-09-25 10:31:59.176148: I tensorflow/core/platform/cpu_feature_guard.cc:151] This TensorFlow binary is optimized with oneAPI Deep Neural Network Library (oneDNN) to use the following CPU instructions in performance-critical operations:  SSE4.1 SSE4.2 AVX AVX2 FMA\n",
      "To enable them in other operations, rebuild TensorFlow with the appropriate compiler flags.\n",
      "2022-09-25 10:31:59.226114: I tensorflow/core/common_runtime/process_util.cc:146] Creating new thread pool with default inter op setting: 2. Tune using inter_op_parallelism_threads for best performance.\n"
     ]
    }
   ],
   "source": [
    "model = keras.models.Sequential()\n",
    "model.add(keras.layers.Flatten(input_shape=[28, 28])) # to convert the input image into 1D array\n",
    "# Alternately we can add keras.layers.InputLayer as the first layer, setting shape=[28,28]\n",
    "model.add(keras.layers.Dense(300, activation=\"relu\"))\n",
    "model.add(keras.layers.Dense(100, activation=\"relu\"))\n",
    "model.add(keras.layers.Dense(10, activation=\"softmax\")) # softmax is used since the classes are exclusive"
   ]
  },
  {
   "cell_type": "code",
   "execution_count": 12,
   "id": "fbd147a2-c1b6-4a1b-b3fa-8462d1522b93",
   "metadata": {},
   "outputs": [],
   "source": [
    "# An alternate coding style\n",
    "#model = keras.models.Sequential([\n",
    "#    keras.layers.Flatten(input_shape=[28, 28]),\n",
    "#    keras.layers.Dense(300, activation=\"relu\"),\n",
    "#    keras.layers.Dense(100, activation=\"relu\"),\n",
    "#    keras.layers.Dense(10, activation=\"softmax\")\n",
    "#])"
   ]
  },
  {
   "cell_type": "markdown",
   "id": "d27470d6-a22f-465e-80bf-18f552e5b3cf",
   "metadata": {},
   "source": [
    "The model’s summary() method displays all the model’s layers, including each layer’s\n",
    "name (which is automatically generated unless you set it when creating the layer), its\n",
    "output shape (None means the batch size can be anything), and its number of parame‐\n",
    "ters. The summary ends with the total number of parameters, including trainable and\n",
    "non-trainable parameters."
   ]
  },
  {
   "cell_type": "code",
   "execution_count": 13,
   "id": "5fe5db30-1d2f-47db-9e1d-a4c85a51986a",
   "metadata": {},
   "outputs": [
    {
     "name": "stdout",
     "output_type": "stream",
     "text": [
      "Model: \"sequential\"\n",
      "_________________________________________________________________\n",
      " Layer (type)                Output Shape              Param #   \n",
      "=================================================================\n",
      " flatten (Flatten)           (None, 784)               0         \n",
      "                                                                 \n",
      " dense (Dense)               (None, 300)               235500    \n",
      "                                                                 \n",
      " dense_1 (Dense)             (None, 100)               30100     \n",
      "                                                                 \n",
      " dense_2 (Dense)             (None, 10)                1010      \n",
      "                                                                 \n",
      "=================================================================\n",
      "Total params: 266,610\n",
      "Trainable params: 266,610\n",
      "Non-trainable params: 0\n",
      "_________________________________________________________________\n"
     ]
    }
   ],
   "source": [
    "model.summary()"
   ]
  },
  {
   "cell_type": "markdown",
   "id": "16bf6dca-ce18-428b-940d-c69fff2604ae",
   "metadata": {},
   "source": [
    "You can easily get a model’s list of layers, to fetch a layer by its index, or you can fetch it by name:"
   ]
  },
  {
   "cell_type": "code",
   "execution_count": 14,
   "id": "3f88f8fd-03c5-4a20-b4fb-6ac614db8025",
   "metadata": {},
   "outputs": [
    {
     "data": {
      "text/plain": [
       "[<keras.layers.core.flatten.Flatten at 0x7f60b138b490>,\n",
       " <keras.layers.core.dense.Dense at 0x7f60b138b4d0>,\n",
       " <keras.layers.core.dense.Dense at 0x7f60b19f1b50>,\n",
       " <keras.layers.core.dense.Dense at 0x7f60977f0650>]"
      ]
     },
     "execution_count": 14,
     "metadata": {},
     "output_type": "execute_result"
    }
   ],
   "source": [
    "model.layers"
   ]
  },
  {
   "cell_type": "code",
   "execution_count": 15,
   "id": "b427f1e8-bf29-4ede-8c5e-4c1d968c5958",
   "metadata": {},
   "outputs": [
    {
     "data": {
      "text/plain": [
       "'dense'"
      ]
     },
     "execution_count": 15,
     "metadata": {},
     "output_type": "execute_result"
    }
   ],
   "source": [
    "model.layers[1].name"
   ]
  },
  {
   "cell_type": "code",
   "execution_count": 16,
   "id": "b4f4c2f7-57d7-43c5-af65-d23618c328a2",
   "metadata": {},
   "outputs": [
    {
     "data": {
      "text/plain": [
       "'dense_1'"
      ]
     },
     "execution_count": 16,
     "metadata": {},
     "output_type": "execute_result"
    }
   ],
   "source": [
    "model.get_layer('dense_1').name"
   ]
  },
  {
   "cell_type": "markdown",
   "id": "2f7f02dd-c663-4a95-9778-51c4bfed925d",
   "metadata": {},
   "source": [
    "All the parameters of a layer can be accessed using its get_weights() and\n",
    "set_weights() method. For a Dense layer, this includes both the connection weights\n",
    "and the bias terms"
   ]
  },
  {
   "cell_type": "code",
   "execution_count": 17,
   "id": "9748da07-fb96-4ee6-8be3-f643652d2f55",
   "metadata": {},
   "outputs": [],
   "source": [
    "weights, biases = model.layers[1].get_weights()"
   ]
  },
  {
   "cell_type": "code",
   "execution_count": 18,
   "id": "99f6e804-9e00-44e3-9138-6f43d31bd053",
   "metadata": {},
   "outputs": [
    {
     "data": {
      "text/plain": [
       "array([[ 0.0625544 ,  0.04102904, -0.02991423, ...,  0.02804768,\n",
       "        -0.00687322, -0.05431868],\n",
       "       [-0.02699228, -0.02145732,  0.06305754, ...,  0.07368673,\n",
       "        -0.05090085,  0.04951871],\n",
       "       [ 0.03156304, -0.06817424,  0.02274545, ..., -0.0350704 ,\n",
       "         0.05470169,  0.04791225],\n",
       "       ...,\n",
       "       [ 0.04885369,  0.0455092 , -0.06491272, ..., -0.042671  ,\n",
       "         0.02562164,  0.02133033],\n",
       "       [ 0.02723138,  0.03877069,  0.05421038, ..., -0.04599163,\n",
       "        -0.05819375,  0.01657111],\n",
       "       [ 0.03529327,  0.01129949, -0.04298921, ..., -0.05743554,\n",
       "        -0.00564005, -0.02683431]], dtype=float32)"
      ]
     },
     "execution_count": 18,
     "metadata": {},
     "output_type": "execute_result"
    }
   ],
   "source": [
    "weights"
   ]
  },
  {
   "cell_type": "code",
   "execution_count": 20,
   "id": "0fcf87f0-30fe-47c9-ada1-e47cd1ba2a94",
   "metadata": {},
   "outputs": [
    {
     "data": {
      "text/plain": [
       "(784, 300)"
      ]
     },
     "execution_count": 20,
     "metadata": {},
     "output_type": "execute_result"
    }
   ],
   "source": [
    "weights.shape"
   ]
  },
  {
   "cell_type": "code",
   "execution_count": 21,
   "id": "430d185a-355e-4257-b7d0-38beb855f6b6",
   "metadata": {},
   "outputs": [
    {
     "data": {
      "text/plain": [
       "array([0., 0., 0., 0., 0., 0., 0., 0., 0., 0., 0., 0., 0., 0., 0., 0., 0.,\n",
       "       0., 0., 0., 0., 0., 0., 0., 0., 0., 0., 0., 0., 0., 0., 0., 0., 0.,\n",
       "       0., 0., 0., 0., 0., 0., 0., 0., 0., 0., 0., 0., 0., 0., 0., 0., 0.,\n",
       "       0., 0., 0., 0., 0., 0., 0., 0., 0., 0., 0., 0., 0., 0., 0., 0., 0.,\n",
       "       0., 0., 0., 0., 0., 0., 0., 0., 0., 0., 0., 0., 0., 0., 0., 0., 0.,\n",
       "       0., 0., 0., 0., 0., 0., 0., 0., 0., 0., 0., 0., 0., 0., 0., 0., 0.,\n",
       "       0., 0., 0., 0., 0., 0., 0., 0., 0., 0., 0., 0., 0., 0., 0., 0., 0.,\n",
       "       0., 0., 0., 0., 0., 0., 0., 0., 0., 0., 0., 0., 0., 0., 0., 0., 0.,\n",
       "       0., 0., 0., 0., 0., 0., 0., 0., 0., 0., 0., 0., 0., 0., 0., 0., 0.,\n",
       "       0., 0., 0., 0., 0., 0., 0., 0., 0., 0., 0., 0., 0., 0., 0., 0., 0.,\n",
       "       0., 0., 0., 0., 0., 0., 0., 0., 0., 0., 0., 0., 0., 0., 0., 0., 0.,\n",
       "       0., 0., 0., 0., 0., 0., 0., 0., 0., 0., 0., 0., 0., 0., 0., 0., 0.,\n",
       "       0., 0., 0., 0., 0., 0., 0., 0., 0., 0., 0., 0., 0., 0., 0., 0., 0.,\n",
       "       0., 0., 0., 0., 0., 0., 0., 0., 0., 0., 0., 0., 0., 0., 0., 0., 0.,\n",
       "       0., 0., 0., 0., 0., 0., 0., 0., 0., 0., 0., 0., 0., 0., 0., 0., 0.,\n",
       "       0., 0., 0., 0., 0., 0., 0., 0., 0., 0., 0., 0., 0., 0., 0., 0., 0.,\n",
       "       0., 0., 0., 0., 0., 0., 0., 0., 0., 0., 0., 0., 0., 0., 0., 0., 0.,\n",
       "       0., 0., 0., 0., 0., 0., 0., 0., 0., 0., 0.], dtype=float32)"
      ]
     },
     "execution_count": 21,
     "metadata": {},
     "output_type": "execute_result"
    }
   ],
   "source": [
    "biases"
   ]
  },
  {
   "cell_type": "markdown",
   "id": "760449bd-5508-45eb-ba35-5e091e3e8c33",
   "metadata": {},
   "source": [
    "## Compilinig the model"
   ]
  },
  {
   "cell_type": "markdown",
   "id": "6cdcd50e-ece2-4edc-b73b-3071c7008916",
   "metadata": {},
   "source": [
    "We use the \"sparse_categorical_crossentropy\" loss because we have sparse labels (i.e., for each instance there is just a target class index, from 0 to 9 in this case), and the classes are exclusive. If instead we had one target probability per class for each instance (such as one-hot vectors, e.g. [0., 0., 0., 1., 0., 0., 0., 0., 0., 0.] to represent class 3), then we would need to use the \"categorical_crossentropy\" loss instead. If we were doing binary classification (with one or more binary labels), then we would use the \"sigmoid\" (i.e.,logistic) activation function in the output layer instead of the \"softmax\" activation\n",
    "function, and we would use the \"binary_crossentropy\" loss.\n",
    "\n",
    "We are using Stochastic Gradient Descent as the optimizer. \n",
    "\n",
    "Finally, since this is a classifier, it’s useful to measure its \"accuracy\" during training\n",
    "and evaluation."
   ]
  },
  {
   "cell_type": "code",
   "execution_count": 22,
   "id": "3c0d09f0-b5c1-47f2-9a9c-7c636e5db078",
   "metadata": {},
   "outputs": [],
   "source": [
    "model.compile(loss=\"sparse_categorical_crossentropy\",\n",
    "              optimizer=\"sgd\",\n",
    "              metrics=[\"accuracy\"])"
   ]
  },
  {
   "cell_type": "markdown",
   "id": "389f0300-25ce-40db-9717-26e1622d0233",
   "metadata": {},
   "source": [
    "# Training and Evaluating the Model"
   ]
  },
  {
   "cell_type": "code",
   "execution_count": 23,
   "id": "44224714-a000-41ac-b5ca-d0029c3bb787",
   "metadata": {},
   "outputs": [
    {
     "name": "stdout",
     "output_type": "stream",
     "text": [
      "Epoch 1/30\n",
      "1719/1719 [==============================] - 18s 10ms/step - loss: 0.7187 - accuracy: 0.7660 - val_loss: 0.5056 - val_accuracy: 0.8302\n",
      "Epoch 2/30\n",
      "1719/1719 [==============================] - 16s 10ms/step - loss: 0.4926 - accuracy: 0.8287 - val_loss: 0.4926 - val_accuracy: 0.8268\n",
      "Epoch 3/30\n",
      "1719/1719 [==============================] - 15s 9ms/step - loss: 0.4464 - accuracy: 0.8430 - val_loss: 0.4401 - val_accuracy: 0.8466\n",
      "Epoch 4/30\n",
      "1719/1719 [==============================] - 13s 8ms/step - loss: 0.4184 - accuracy: 0.8530 - val_loss: 0.3945 - val_accuracy: 0.8634\n",
      "Epoch 5/30\n",
      "1719/1719 [==============================] - 15s 9ms/step - loss: 0.3979 - accuracy: 0.8605 - val_loss: 0.3832 - val_accuracy: 0.8686\n",
      "Epoch 6/30\n",
      "1719/1719 [==============================] - 16s 9ms/step - loss: 0.3801 - accuracy: 0.8660 - val_loss: 0.3793 - val_accuracy: 0.8678\n",
      "Epoch 7/30\n",
      "1719/1719 [==============================] - 14s 8ms/step - loss: 0.3666 - accuracy: 0.8708 - val_loss: 0.3716 - val_accuracy: 0.8704\n",
      "Epoch 8/30\n",
      "1719/1719 [==============================] - 16s 9ms/step - loss: 0.3546 - accuracy: 0.8744 - val_loss: 0.3508 - val_accuracy: 0.8764\n",
      "Epoch 9/30\n",
      "1719/1719 [==============================] - 17s 10ms/step - loss: 0.3436 - accuracy: 0.8785 - val_loss: 0.3729 - val_accuracy: 0.8694\n",
      "Epoch 10/30\n",
      "1719/1719 [==============================] - 17s 10ms/step - loss: 0.3338 - accuracy: 0.8811 - val_loss: 0.3378 - val_accuracy: 0.8798\n",
      "Epoch 11/30\n",
      "1719/1719 [==============================] - 21s 12ms/step - loss: 0.3255 - accuracy: 0.8843 - val_loss: 0.3368 - val_accuracy: 0.8828\n",
      "Epoch 12/30\n",
      "1719/1719 [==============================] - 21s 12ms/step - loss: 0.3169 - accuracy: 0.8870 - val_loss: 0.3410 - val_accuracy: 0.8790\n",
      "Epoch 13/30\n",
      "1719/1719 [==============================] - 19s 11ms/step - loss: 0.3097 - accuracy: 0.8893 - val_loss: 0.3221 - val_accuracy: 0.8836\n",
      "Epoch 14/30\n",
      "1719/1719 [==============================] - 18s 11ms/step - loss: 0.3017 - accuracy: 0.8901 - val_loss: 0.3441 - val_accuracy: 0.8764\n",
      "Epoch 15/30\n",
      "1719/1719 [==============================] - 17s 10ms/step - loss: 0.2967 - accuracy: 0.8943 - val_loss: 0.3310 - val_accuracy: 0.8834\n",
      "Epoch 16/30\n",
      "1719/1719 [==============================] - 19s 11ms/step - loss: 0.2893 - accuracy: 0.8963 - val_loss: 0.3187 - val_accuracy: 0.8870\n",
      "Epoch 17/30\n",
      "1719/1719 [==============================] - 20s 11ms/step - loss: 0.2834 - accuracy: 0.8964 - val_loss: 0.3190 - val_accuracy: 0.8838\n",
      "Epoch 18/30\n",
      "1719/1719 [==============================] - 19s 11ms/step - loss: 0.2776 - accuracy: 0.8991 - val_loss: 0.3221 - val_accuracy: 0.8854\n",
      "Epoch 19/30\n",
      "1719/1719 [==============================] - 18s 11ms/step - loss: 0.2728 - accuracy: 0.9025 - val_loss: 0.3212 - val_accuracy: 0.8842\n",
      "Epoch 20/30\n",
      "1719/1719 [==============================] - 15s 9ms/step - loss: 0.2668 - accuracy: 0.9038 - val_loss: 0.3009 - val_accuracy: 0.8938\n",
      "Epoch 21/30\n",
      "1719/1719 [==============================] - 18s 10ms/step - loss: 0.2620 - accuracy: 0.9049 - val_loss: 0.3112 - val_accuracy: 0.8902\n",
      "Epoch 22/30\n",
      "1719/1719 [==============================] - 18s 11ms/step - loss: 0.2566 - accuracy: 0.9076 - val_loss: 0.3302 - val_accuracy: 0.8818\n",
      "Epoch 23/30\n",
      "1719/1719 [==============================] - 19s 11ms/step - loss: 0.2525 - accuracy: 0.9090 - val_loss: 0.3054 - val_accuracy: 0.8888\n",
      "Epoch 24/30\n",
      "1719/1719 [==============================] - 20s 12ms/step - loss: 0.2475 - accuracy: 0.9118 - val_loss: 0.2997 - val_accuracy: 0.8890\n",
      "Epoch 25/30\n",
      "1719/1719 [==============================] - 21s 12ms/step - loss: 0.2429 - accuracy: 0.9128 - val_loss: 0.3082 - val_accuracy: 0.8864\n",
      "Epoch 26/30\n",
      "1719/1719 [==============================] - 26s 15ms/step - loss: 0.2395 - accuracy: 0.9131 - val_loss: 0.2990 - val_accuracy: 0.8938\n",
      "Epoch 27/30\n",
      "1719/1719 [==============================] - 21s 12ms/step - loss: 0.2353 - accuracy: 0.9147 - val_loss: 0.2930 - val_accuracy: 0.8922\n",
      "Epoch 28/30\n",
      "1719/1719 [==============================] - 22s 13ms/step - loss: 0.2323 - accuracy: 0.9162 - val_loss: 0.2945 - val_accuracy: 0.8956\n",
      "Epoch 29/30\n",
      "1719/1719 [==============================] - 25s 14ms/step - loss: 0.2275 - accuracy: 0.9180 - val_loss: 0.2956 - val_accuracy: 0.8924\n",
      "Epoch 30/30\n",
      "1719/1719 [==============================] - 23s 13ms/step - loss: 0.2250 - accuracy: 0.9188 - val_loss: 0.2867 - val_accuracy: 0.9006\n"
     ]
    }
   ],
   "source": [
    "history = model.fit(X_train, y_train, epochs=30, validation_data=(X_valid, y_valid))"
   ]
  },
  {
   "cell_type": "markdown",
   "id": "f0432597-7cfa-44d0-99fc-04785340f109",
   "metadata": {},
   "source": [
    "The fit() method returns a History object containing the training parameters ( history.params ), the list of epochs it went through ( history.epoch ), and most importantly a dictionary ( history.history ) containing the loss and extra metrics it\n",
    "measured at the end of each epoch on the training set and on the validation set (if any)"
   ]
  },
  {
   "cell_type": "code",
   "execution_count": 24,
   "id": "c6072a76-45cf-427b-bd2c-9c42c0722509",
   "metadata": {},
   "outputs": [
    {
     "data": {
      "image/png": "[encoded data removed]",
      "text/plain": [
       "<Figure size 800x500 with 1 Axes>"
      ]
     },
     "metadata": {},
     "output_type": "display_data"
    }
   ],
   "source": [
    "pd.DataFrame(history.history).plot(figsize=(8, 5))\n",
    "plt.grid(True)\n",
    "plt.gca().set_ylim(0, 1) # set the vertical range to [0-1]\n",
    "plt.show()"
   ]
  },
  {
   "cell_type": "code",
   "execution_count": 27,
   "id": "1624bfea-839d-4776-a96e-34aff6a38a01",
   "metadata": {},
   "outputs": [
    {
     "name": "stdout",
     "output_type": "stream",
     "text": [
      "313/313 [==============================] - 4s 12ms/step - loss: 67.7870 - accuracy: 0.8467\n"
     ]
    },
    {
     "data": {
      "text/plain": [
       "[67.7869873046875, 0.8467000126838684]"
      ]
     },
     "execution_count": 27,
     "metadata": {},
     "output_type": "execute_result"
    }
   ],
   "source": [
    "model.evaluate(X_test, y_test)"
   ]
  },
  {
   "cell_type": "markdown",
   "id": "d64efffd-0bb6-4854-9299-d6417ef6a2ea",
   "metadata": {},
   "source": [
    "Note that the loss is higher compared to validation set"
   ]
  },
  {
   "cell_type": "markdown",
   "id": "9621a053-f1de-474e-8068-90296d4c8c24",
   "metadata": {},
   "source": [
    "# Using the Model to Make Predictions"
   ]
  },
  {
   "cell_type": "code",
   "execution_count": 25,
   "id": "d9f6c1b5-269a-410d-92e4-835f9a87a209",
   "metadata": {},
   "outputs": [
    {
     "data": {
      "text/plain": [
       "array([[0., 0., 0., 0., 0., 0., 0., 0., 0., 1.],\n",
       "       [0., 0., 1., 0., 0., 0., 0., 0., 0., 0.],\n",
       "       [0., 1., 0., 0., 0., 0., 0., 0., 0., 0.]], dtype=float32)"
      ]
     },
     "execution_count": 25,
     "metadata": {},
     "output_type": "execute_result"
    }
   ],
   "source": [
    "X_new = X_test[:3]\n",
    "y_proba = model.predict(X_new)\n",
    "y_proba.round(2)"
   ]
  },
  {
   "cell_type": "markdown",
   "id": "1a4801e5-8c77-4945-b77c-31d6275edcf6",
   "metadata": {},
   "source": [
    "If you only care about the class with the highest estimated probability (even if that probability is quite low) then"
   ]
  },
  {
   "cell_type": "code",
   "execution_count": 26,
   "id": "830ab2d5-f139-426f-be05-3d58b33ce534",
   "metadata": {},
   "outputs": [
    {
     "data": {
      "text/plain": [
       "array([9, 2, 1])"
      ]
     },
     "execution_count": 26,
     "metadata": {},
     "output_type": "execute_result"
    }
   ],
   "source": [
    "y_pred = np.argmax(model.predict(X_new), axis=-1)\n",
    "y_pred"
   ]
  },
  {
   "cell_type": "code",
   "execution_count": 27,
   "id": "36015d87-dd73-4a23-948b-1673f99e198e",
   "metadata": {},
   "outputs": [
    {
     "data": {
      "text/plain": [
       "array(['Ankle boot', 'Pullover', 'Trouser'], dtype='<U11')"
      ]
     },
     "execution_count": 27,
     "metadata": {},
     "output_type": "execute_result"
    }
   ],
   "source": [
    "np.array(class_names)[y_pred]"
   ]
  },
  {
   "cell_type": "code",
   "execution_count": 28,
   "id": "14e80a7a-f40f-4e1f-801e-1c659a605b58",
   "metadata": {},
   "outputs": [
    {
     "data": {
      "text/plain": [
       "array([9, 2, 1], dtype=uint8)"
      ]
     },
     "execution_count": 28,
     "metadata": {},
     "output_type": "execute_result"
    }
   ],
   "source": [
    "y_new = y_test[:3]\n",
    "y_new"
   ]
  },
  {
   "cell_type": "code",
   "execution_count": null,
   "id": "b30780e3-2fa4-45c4-b2db-ccaba1b487a6",
   "metadata": {},
   "outputs": [],
   "source": []
  }
 ],
 "metadata": {
  "kernelspec": {
   "display_name": "Python 3 (ipykernel)",
   "language": "python",
   "name": "python3"
  },
  "language_info": {
   "codemirror_mode": {
    "name": "ipython",
    "version": 3
   },
   "file_extension": ".py",
   "mimetype": "text/x-python",
   "name": "python",
   "nbconvert_exporter": "python",
   "pygments_lexer": "ipython3",
   "version": "3.7.13"
  }
 },
 "nbformat": 4,
 "nbformat_minor": 5
}
