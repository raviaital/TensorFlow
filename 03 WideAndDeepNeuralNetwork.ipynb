{
 "cells": [
  {
   "cell_type": "markdown",
   "id": "824409e8-a8e1-41ef-9038-47af270c9553",
   "metadata": {},
   "source": [
    "# California Housing Regression MLP using Wide and Deep NN"
   ]
  },
  {
   "cell_type": "markdown",
   "id": "69ebdc64-a337-4a0e-9526-5d705a1c8ae0",
   "metadata": {},
   "source": [
    "We will use Scikit-Learn’s fetch_california_housing to get the dataset. This is a simple dataset with no missing values"
   ]
  },
  {
   "cell_type": "code",
   "execution_count": 1,
   "id": "bbc96f70-9aec-4218-b430-d048410973d7",
   "metadata": {},
   "outputs": [],
   "source": [
    "import numpy as np\n",
    "import pandas as pd\n",
    "import matplotlib.pyplot as plt\n",
    "import tensorflow as tf\n",
    "from tensorflow import keras"
   ]
  },
  {
   "cell_type": "code",
   "execution_count": 2,
   "id": "a1bffac0-d686-4d50-84aa-7b216cf1780f",
   "metadata": {},
   "outputs": [],
   "source": [
    "from sklearn.datasets import fetch_california_housing\n",
    "from sklearn.model_selection import train_test_split\n",
    "from sklearn.preprocessing import StandardScaler"
   ]
  },
  {
   "cell_type": "code",
   "execution_count": 3,
   "id": "78961db5-89bc-41be-a1dd-13e5530b12ea",
   "metadata": {},
   "outputs": [],
   "source": [
    "housing = fetch_california_housing()\n",
    "\n",
    "X_train_full, X_test, y_train_full, y_test = train_test_split(housing.data, housing.target, random_state=42)\n",
    "X_train, X_valid, y_train, y_valid = train_test_split(X_train_full, y_train_full, random_state=42)\n"
   ]
  },
  {
   "cell_type": "code",
   "execution_count": 4,
   "id": "b3f442f7-090e-4769-bba4-4bf123d517a5",
   "metadata": {},
   "outputs": [
    {
     "data": {
      "text/plain": [
       "array([[   4.2143    ,   37.        ,    5.28823529, ...,    2.52941176,\n",
       "          33.81      , -118.12      ],\n",
       "       [   5.3468    ,   42.        ,    6.36432161, ...,    2.40452261,\n",
       "          37.16      , -121.98      ],\n",
       "       [   3.9191    ,   36.        ,    6.11006289, ...,    2.23584906,\n",
       "          38.45      , -122.69      ],\n",
       "       ...,\n",
       "       [   2.9344    ,   36.        ,    3.98671727, ...,    3.33206831,\n",
       "          34.03      , -118.38      ],\n",
       "       [   5.7192    ,   15.        ,    6.39534884, ...,    3.17889088,\n",
       "          37.58      , -121.96      ],\n",
       "       [   2.5755    ,   52.        ,    3.40257649, ...,    2.10869565,\n",
       "          37.77      , -122.42      ]])"
      ]
     },
     "execution_count": 4,
     "metadata": {},
     "output_type": "execute_result"
    }
   ],
   "source": [
    "X_train_full"
   ]
  },
  {
   "cell_type": "markdown",
   "id": "91832dc1-131c-4354-875f-2484c2730918",
   "metadata": {},
   "source": [
    "Regression tasks need a scaled parameters"
   ]
  },
  {
   "cell_type": "code",
   "execution_count": 12,
   "id": "a3936423-d905-47de-ab4c-5a9b5a1d8a4e",
   "metadata": {},
   "outputs": [],
   "source": [
    "scaler = StandardScaler()\n",
    "X_train = scaler.fit_transform(X_train)\n",
    "X_valid = scaler.transform(X_valid)\n",
    "X_test = scaler.transform(X_test)"
   ]
  },
  {
   "cell_type": "code",
   "execution_count": 13,
   "id": "e57a727d-4c69-4867-8ce8-0cacbc568751",
   "metadata": {},
   "outputs": [],
   "source": [
    "np.random.seed(42)\n",
    "tf.random.set_seed(42)"
   ]
  },
  {
   "cell_type": "markdown",
   "id": "0b409578-4b14-4325-901b-42e00dab3f9a",
   "metadata": {},
   "source": [
    "## Model Creation"
   ]
  },
  {
   "cell_type": "markdown",
   "id": "0c1df7ca-065d-487c-8e24-2463efff8202",
   "metadata": {},
   "source": [
    "In case of regression, the output layer has a single neuron (since we only want to\n",
    "predict a single value) and uses no activation function. The loss function is the\n",
    "mean squared error. Since the dataset is quite noisy, we just use a single hidden layer\n",
    "with fewer neurons than before, to avoid overfitting."
   ]
  },
  {
   "cell_type": "markdown",
   "id": "64656809-6f26-43f0-8910-d9e08455496c",
   "metadata": {},
   "source": [
    "## Functional API\n",
    "\n",
    "The Keras functional API is a way to create models that are more flexible than the tf.keras.Sequential API. The functional API can handle models with non-linear topology, shared layers, and even multiple inputs or outputs.\n",
    "\n",
    "The main idea is that a deep learning model is usually a directed acyclic graph (DAG) of layers. So the functional API is a way to build graphs of layers."
   ]
  },
  {
   "cell_type": "markdown",
   "id": "6a391e15-db0d-4c49-844c-31e10c45551b",
   "metadata": {},
   "source": [
    "## Wide and Deep Neural Network\n",
    "\n",
    "It connects all or part of the inputs directly to the output layer This architecture makes it possible for the neural network to learn both deep patterns (using the deep path) and simple rules (through the short path). In contrast, a regular MLP forces all the data to flow through the full stack of layers, thus simple patterns in the data may end up being distorted by this sequence of transformations."
   ]
  },
  {
   "cell_type": "code",
   "execution_count": 14,
   "id": "b101c8bc-7f5e-4334-918a-1a2b46169aba",
   "metadata": {},
   "outputs": [],
   "source": [
    "input_ = keras.layers.Input(shape=X_train.shape[1:])\n",
    "hidden1 = keras.layers.Dense(30, activation=\"relu\")(input_)\n",
    "hidden2 = keras.layers.Dense(30, activation=\"relu\")(hidden1)\n",
    "concat = keras.layers.concatenate([input_, hidden2])\n",
    "output = keras.layers.Dense(1)(concat)\n",
    "model = keras.models.Model(inputs=[input_], outputs=[output])"
   ]
  },
  {
   "cell_type": "code",
   "execution_count": 15,
   "id": "125e394c-0190-42ef-bb6c-918c2fc88ce5",
   "metadata": {},
   "outputs": [
    {
     "name": "stdout",
     "output_type": "stream",
     "text": [
      "Model: \"model_1\"\n",
      "__________________________________________________________________________________________________\n",
      " Layer (type)                   Output Shape         Param #     Connected to                     \n",
      "==================================================================================================\n",
      " input_2 (InputLayer)           [(None, 8)]          0           []                               \n",
      "                                                                                                  \n",
      " dense_3 (Dense)                (None, 30)           270         ['input_2[0][0]']                \n",
      "                                                                                                  \n",
      " dense_4 (Dense)                (None, 30)           930         ['dense_3[0][0]']                \n",
      "                                                                                                  \n",
      " concatenate_1 (Concatenate)    (None, 38)           0           ['input_2[0][0]',                \n",
      "                                                                  'dense_4[0][0]']                \n",
      "                                                                                                  \n",
      " dense_5 (Dense)                (None, 1)            39          ['concatenate_1[0][0]']          \n",
      "                                                                                                  \n",
      "==================================================================================================\n",
      "Total params: 1,239\n",
      "Trainable params: 1,239\n",
      "Non-trainable params: 0\n",
      "__________________________________________________________________________________________________\n"
     ]
    }
   ],
   "source": [
    "model.summary()"
   ]
  },
  {
   "cell_type": "markdown",
   "id": "b83d1e5a-adf9-47a9-8bae-69e602585e34",
   "metadata": {},
   "source": [
    "## Model Compiling"
   ]
  },
  {
   "cell_type": "code",
   "execution_count": 16,
   "id": "c31a1a26-35c0-4e8d-95f4-c2c0faeec33a",
   "metadata": {},
   "outputs": [],
   "source": [
    "model.compile(loss=\"mean_squared_error\",\n",
    "              optimizer=keras.optimizers.SGD(learning_rate=1e-3))"
   ]
  },
  {
   "cell_type": "markdown",
   "id": "ddfd90e9-3f5b-4e7b-b4d8-851727c40653",
   "metadata": {},
   "source": [
    "## Model Training"
   ]
  },
  {
   "cell_type": "code",
   "execution_count": 17,
   "id": "e7a5e39e-d635-4692-b04a-612287b3236e",
   "metadata": {},
   "outputs": [
    {
     "name": "stdout",
     "output_type": "stream",
     "text": [
      "Epoch 1/20\n",
      "363/363 [==============================] - 3s 8ms/step - loss: 1.2611 - val_loss: 3.3940\n",
      "Epoch 2/20\n",
      "363/363 [==============================] - 3s 8ms/step - loss: 0.6580 - val_loss: 0.9360\n",
      "Epoch 3/20\n",
      "363/363 [==============================] - 2s 7ms/step - loss: 0.5878 - val_loss: 0.5649\n",
      "Epoch 4/20\n",
      "363/363 [==============================] - 2s 4ms/step - loss: 0.5582 - val_loss: 0.5712\n",
      "Epoch 5/20\n",
      "363/363 [==============================] - 2s 4ms/step - loss: 0.5347 - val_loss: 0.5045\n",
      "Epoch 6/20\n",
      "363/363 [==============================] - 2s 6ms/step - loss: 0.5158 - val_loss: 0.4831\n",
      "Epoch 7/20\n",
      "363/363 [==============================] - 1s 4ms/step - loss: 0.5002 - val_loss: 0.4639\n",
      "Epoch 8/20\n",
      "363/363 [==============================] - 2s 6ms/step - loss: 0.4876 - val_loss: 0.4638\n",
      "Epoch 9/20\n",
      "363/363 [==============================] - 2s 5ms/step - loss: 0.4760 - val_loss: 0.4421\n",
      "Epoch 10/20\n",
      "363/363 [==============================] - 2s 7ms/step - loss: 0.4659 - val_loss: 0.4313\n",
      "Epoch 11/20\n",
      "363/363 [==============================] - 3s 8ms/step - loss: 0.4577 - val_loss: 0.4345\n",
      "Epoch 12/20\n",
      "363/363 [==============================] - 3s 7ms/step - loss: 0.4498 - val_loss: 0.4168\n",
      "Epoch 13/20\n",
      "363/363 [==============================] - 2s 6ms/step - loss: 0.4428 - val_loss: 0.4230\n",
      "Epoch 14/20\n",
      "363/363 [==============================] - 2s 6ms/step - loss: 0.4366 - val_loss: 0.4047\n",
      "Epoch 15/20\n",
      "363/363 [==============================] - 2s 6ms/step - loss: 0.4307 - val_loss: 0.4078\n",
      "Epoch 16/20\n",
      "363/363 [==============================] - 3s 7ms/step - loss: 0.4257 - val_loss: 0.3938\n",
      "Epoch 17/20\n",
      "363/363 [==============================] - 3s 7ms/step - loss: 0.4210 - val_loss: 0.3952\n",
      "Epoch 18/20\n",
      "363/363 [==============================] - 2s 5ms/step - loss: 0.4167 - val_loss: 0.3860\n",
      "Epoch 19/20\n",
      "363/363 [==============================] - 2s 6ms/step - loss: 0.4121 - val_loss: 0.3827\n",
      "Epoch 20/20\n",
      "363/363 [==============================] - 3s 8ms/step - loss: 0.4088 - val_loss: 0.4054\n"
     ]
    }
   ],
   "source": [
    "history = model.fit(X_train, y_train, epochs=20,\n",
    "                    validation_data=(X_valid, y_valid))"
   ]
  },
  {
   "cell_type": "code",
   "execution_count": 18,
   "id": "adea04c6-550d-4040-b615-e904db1d1ebc",
   "metadata": {},
   "outputs": [
    {
     "data": {
      "image/png": "[encoded data removed]",
      "text/plain": [
       "<Figure size 640x480 with 1 Axes>"
      ]
     },
     "metadata": {},
     "output_type": "display_data"
    }
   ],
   "source": [
    "plt.plot(pd.DataFrame(history.history))\n",
    "plt.grid(True)\n",
    "plt.gca().set_ylim(0, 1)\n",
    "plt.show()"
   ]
  },
  {
   "cell_type": "markdown",
   "id": "0ea9cd95-8809-450a-956b-19b6d1465a29",
   "metadata": {},
   "source": [
    "## Evaluation and Testing"
   ]
  },
  {
   "cell_type": "code",
   "execution_count": 19,
   "id": "defd3c12-89e4-43d5-ba7e-b00146e1b7f3",
   "metadata": {},
   "outputs": [
    {
     "name": "stdout",
     "output_type": "stream",
     "text": [
      "162/162 [==============================] - 1s 5ms/step - loss: 0.4032\n"
     ]
    }
   ],
   "source": [
    "mse_test = model.evaluate(X_test, y_test)\n",
    "X_new = X_test[:3] # pretend these are new instances\n",
    "y_pred = model.predict(X_new)"
   ]
  },
  {
   "cell_type": "code",
   "execution_count": 20,
   "id": "bd87a29a-6aca-4e15-b33b-201425d617b0",
   "metadata": {},
   "outputs": [
    {
     "data": {
      "text/plain": [
       "array([[0.47011757],\n",
       "       [1.873529  ],\n",
       "       [3.3798187 ]], dtype=float32)"
      ]
     },
     "execution_count": 20,
     "metadata": {},
     "output_type": "execute_result"
    }
   ],
   "source": [
    "y_pred"
   ]
  },
  {
   "cell_type": "code",
   "execution_count": 21,
   "id": "2a91c507-c5b9-41f0-9aaa-34e1e9a623fa",
   "metadata": {},
   "outputs": [
    {
     "data": {
      "text/plain": [
       "array([0.477  , 0.458  , 5.00001])"
      ]
     },
     "execution_count": 21,
     "metadata": {},
     "output_type": "execute_result"
    }
   ],
   "source": [
    "y_test[:3]"
   ]
  },
  {
   "cell_type": "markdown",
   "id": "71d28c9f-b4de-4339-a8cd-6223b4cfc678",
   "metadata": {},
   "source": [
    "As you can see the model prediction is not near to the actuals. This means a lot of tuning is needed"
   ]
  },
  {
   "cell_type": "markdown",
   "id": "07e6ddbc-c613-423e-a122-9c7ea9ab3d10",
   "metadata": {},
   "source": [
    "What if you want to send different subsets of input features through the wide or deep paths? We will send 5 features (features 0 to 4), and 6 through the deep path (features 2 to 7). Note that 3 features will go through both (features 2, 3 and 4)."
   ]
  },
  {
   "cell_type": "code",
   "execution_count": 22,
   "id": "a3fcce9d-a736-43c8-8763-80bcaa6422de",
   "metadata": {},
   "outputs": [],
   "source": [
    "input_A = keras.layers.Input(shape=[5], name=\"wide_input\")\n",
    "input_B = keras.layers.Input(shape=[6], name=\"deep_input\")\n",
    "hidden1 = keras.layers.Dense(30, activation=\"relu\")(input_B)\n",
    "hidden2 = keras.layers.Dense(30, activation=\"relu\")(hidden1)\n",
    "concat = keras.layers.concatenate([input_A, hidden2])\n",
    "output = keras.layers.Dense(1, name=\"output\")(concat)\n",
    "model = keras.models.Model(inputs=[input_A, input_B], outputs=[output])"
   ]
  },
  {
   "cell_type": "code",
   "execution_count": 23,
   "id": "dd7469de-4e99-4194-9c2a-2b4c1dbb0ff9",
   "metadata": {},
   "outputs": [
    {
     "name": "stdout",
     "output_type": "stream",
     "text": [
      "Epoch 1/20\n",
      "363/363 [==============================] - 3s 8ms/step - loss: 1.7643 - val_loss: 0.8560\n",
      "Epoch 2/20\n",
      "363/363 [==============================] - 3s 7ms/step - loss: 0.7584 - val_loss: 0.6710\n",
      "Epoch 3/20\n",
      "363/363 [==============================] - 2s 7ms/step - loss: 0.6584 - val_loss: 0.6169\n",
      "Epoch 4/20\n",
      "363/363 [==============================] - 2s 5ms/step - loss: 0.6023 - val_loss: 0.5710\n",
      "Epoch 5/20\n",
      "363/363 [==============================] - 3s 7ms/step - loss: 0.5663 - val_loss: 0.5420\n",
      "Epoch 6/20\n",
      "363/363 [==============================] - 3s 8ms/step - loss: 0.5380 - val_loss: 0.5176\n",
      "Epoch 7/20\n",
      "363/363 [==============================] - 2s 6ms/step - loss: 0.5187 - val_loss: 0.5065\n",
      "Epoch 8/20\n",
      "363/363 [==============================] - 2s 6ms/step - loss: 0.5025 - val_loss: 0.4790\n",
      "Epoch 9/20\n",
      "363/363 [==============================] - 2s 7ms/step - loss: 0.4889 - val_loss: 0.4564\n",
      "Epoch 10/20\n",
      "363/363 [==============================] - 2s 5ms/step - loss: 0.4781 - val_loss: 0.4451\n",
      "Epoch 11/20\n",
      "363/363 [==============================] - 1s 4ms/step - loss: 0.4678 - val_loss: 0.4295\n",
      "Epoch 12/20\n",
      "363/363 [==============================] - 2s 7ms/step - loss: 0.4617 - val_loss: 0.4228\n",
      "Epoch 13/20\n",
      "363/363 [==============================] - 2s 5ms/step - loss: 0.4563 - val_loss: 0.4181\n",
      "Epoch 14/20\n",
      "363/363 [==============================] - 3s 7ms/step - loss: 0.4526 - val_loss: 0.4147\n",
      "Epoch 15/20\n",
      "363/363 [==============================] - 3s 8ms/step - loss: 0.4487 - val_loss: 0.4125\n",
      "Epoch 16/20\n",
      "363/363 [==============================] - 2s 6ms/step - loss: 0.4453 - val_loss: 0.4095\n",
      "Epoch 17/20\n",
      "363/363 [==============================] - 2s 6ms/step - loss: 0.4416 - val_loss: 0.4111\n",
      "Epoch 18/20\n",
      "363/363 [==============================] - 3s 8ms/step - loss: 0.4400 - val_loss: 0.4091\n",
      "Epoch 19/20\n",
      "363/363 [==============================] - 2s 6ms/step - loss: 0.4369 - val_loss: 0.4097\n",
      "Epoch 20/20\n",
      "363/363 [==============================] - 3s 8ms/step - loss: 0.4350 - val_loss: 0.4174\n",
      "162/162 [==============================] - 1s 5ms/step - loss: 0.4295\n"
     ]
    }
   ],
   "source": [
    "model.compile(loss=\"mse\", optimizer=keras.optimizers.SGD(learning_rate=1e-3))\n",
    "\n",
    "X_train_A, X_train_B = X_train[:, :5], X_train[:, 2:]\n",
    "X_valid_A, X_valid_B = X_valid[:, :5], X_valid[:, 2:]\n",
    "X_test_A, X_test_B = X_test[:, :5], X_test[:, 2:]\n",
    "X_new_A, X_new_B = X_test_A[:3], X_test_B[:3]\n",
    "\n",
    "# Since we passed 2 datasets to compile, we need to pass 2 for fit() also\n",
    "history = model.fit((X_train_A, X_train_B), y_train, epochs=20,\n",
    "                    validation_data=((X_valid_A, X_valid_B), y_valid))\n",
    "mse_test = model.evaluate((X_test_A, X_test_B), y_test)\n",
    "y_pred = model.predict((X_new_A, X_new_B))"
   ]
  },
  {
   "cell_type": "code",
   "execution_count": 25,
   "id": "5a5c2d4d-5630-4811-a34d-89588dfab223",
   "metadata": {},
   "outputs": [
    {
     "data": {
      "text/plain": [
       "(array([[0.32774827],\n",
       "        [1.9024162 ],\n",
       "        [3.4076526 ]], dtype=float32),\n",
       " array([0.477  , 0.458  , 5.00001]))"
      ]
     },
     "execution_count": 25,
     "metadata": {},
     "output_type": "execute_result"
    }
   ],
   "source": [
    "y_pred[:3],y_test[:3]"
   ]
  },
  {
   "cell_type": "markdown",
   "id": "0c457752-ea08-44b1-8a9b-ed0da2809a24",
   "metadata": {},
   "source": [
    "## Adding an auxiliary output\n",
    "\n",
    "An additional output can be needed for different reasons\n",
    "\n",
    "For ex, there may be actually two outputs, like classification of an image and its location\n",
    "There may be multiple independent tasks to perform based the same inputs.\n",
    "For regularisation\n"
   ]
  },
  {
   "cell_type": "code",
   "execution_count": 26,
   "id": "732050cd-91d7-45ac-8345-0f05ba70f383",
   "metadata": {},
   "outputs": [],
   "source": [
    "input_A = keras.layers.Input(shape=[5], name=\"wide_input\")\n",
    "input_B = keras.layers.Input(shape=[6], name=\"deep_input\")\n",
    "hidden1 = keras.layers.Dense(30, activation=\"relu\")(input_B)\n",
    "hidden2 = keras.layers.Dense(30, activation=\"relu\")(hidden1)\n",
    "concat = keras.layers.concatenate([input_A, hidden2])\n",
    "output = keras.layers.Dense(1, name=\"main_output\")(concat)\n",
    "aux_output = keras.layers.Dense(1, name=\"aux_output\")(hidden2)\n",
    "model = keras.models.Model(inputs=[input_A, input_B],\n",
    "                           outputs=[output, aux_output])"
   ]
  },
  {
   "cell_type": "code",
   "execution_count": 29,
   "id": "b8d4bb6b-02fc-41f8-9bca-c0cd5b345a29",
   "metadata": {},
   "outputs": [],
   "source": [
    "# since we are doing this for regularisation we will pass a higher weight for the main output\n",
    "model.compile(loss=[\"mse\", \"mse\"], loss_weights=[0.9, 0.1], optimizer=keras.optimizers.SGD(learning_rate=1e-3))"
   ]
  },
  {
   "cell_type": "code",
   "execution_count": 30,
   "id": "9ae0f4a0-d186-4597-ac7d-371b0467c3ff",
   "metadata": {},
   "outputs": [
    {
     "name": "stdout",
     "output_type": "stream",
     "text": [
      "Epoch 1/20\n",
      "363/363 [==============================] - 4s 9ms/step - loss: 0.4677 - main_output_loss: 0.4260 - aux_output_loss: 0.8433 - val_loss: 0.4457 - val_main_output_loss: 0.3960 - val_aux_output_loss: 0.8923\n",
      "Epoch 2/20\n",
      "363/363 [==============================] - 3s 8ms/step - loss: 0.4646 - main_output_loss: 0.4243 - aux_output_loss: 0.8274 - val_loss: 0.4473 - val_main_output_loss: 0.3995 - val_aux_output_loss: 0.8767\n",
      "Epoch 3/20\n",
      "363/363 [==============================] - 2s 7ms/step - loss: 0.4616 - main_output_loss: 0.4226 - aux_output_loss: 0.8122 - val_loss: 0.4419 - val_main_output_loss: 0.3950 - val_aux_output_loss: 0.8636\n",
      "Epoch 4/20\n",
      "363/363 [==============================] - 2s 7ms/step - loss: 0.4589 - main_output_loss: 0.4211 - aux_output_loss: 0.7985 - val_loss: 0.4398 - val_main_output_loss: 0.3947 - val_aux_output_loss: 0.8465\n",
      "Epoch 5/20\n",
      "363/363 [==============================] - 3s 7ms/step - loss: 0.4564 - main_output_loss: 0.4199 - aux_output_loss: 0.7845 - val_loss: 0.4350 - val_main_output_loss: 0.3915 - val_aux_output_loss: 0.8266\n",
      "Epoch 6/20\n",
      "363/363 [==============================] - 2s 7ms/step - loss: 0.4538 - main_output_loss: 0.4183 - aux_output_loss: 0.7725 - val_loss: 0.4345 - val_main_output_loss: 0.3924 - val_aux_output_loss: 0.8132\n",
      "Epoch 7/20\n",
      "363/363 [==============================] - 4s 10ms/step - loss: 0.4515 - main_output_loss: 0.4172 - aux_output_loss: 0.7602 - val_loss: 0.4335 - val_main_output_loss: 0.3929 - val_aux_output_loss: 0.7982\n",
      "Epoch 8/20\n",
      "363/363 [==============================] - 3s 8ms/step - loss: 0.4494 - main_output_loss: 0.4162 - aux_output_loss: 0.7488 - val_loss: 0.4286 - val_main_output_loss: 0.3894 - val_aux_output_loss: 0.7817\n",
      "Epoch 9/20\n",
      "363/363 [==============================] - 3s 7ms/step - loss: 0.4471 - main_output_loss: 0.4148 - aux_output_loss: 0.7378 - val_loss: 0.4284 - val_main_output_loss: 0.3908 - val_aux_output_loss: 0.7665\n",
      "Epoch 10/20\n",
      "363/363 [==============================] - 3s 9ms/step - loss: 0.4450 - main_output_loss: 0.4136 - aux_output_loss: 0.7274 - val_loss: 0.4286 - val_main_output_loss: 0.3923 - val_aux_output_loss: 0.7549\n",
      "Epoch 11/20\n",
      "363/363 [==============================] - 3s 7ms/step - loss: 0.4434 - main_output_loss: 0.4130 - aux_output_loss: 0.7176 - val_loss: 0.4237 - val_main_output_loss: 0.3886 - val_aux_output_loss: 0.7404\n",
      "Epoch 12/20\n",
      "363/363 [==============================] - 4s 10ms/step - loss: 0.4415 - main_output_loss: 0.4119 - aux_output_loss: 0.7083 - val_loss: 0.4259 - val_main_output_loss: 0.3925 - val_aux_output_loss: 0.7260\n",
      "Epoch 13/20\n",
      "363/363 [==============================] - 2s 7ms/step - loss: 0.4398 - main_output_loss: 0.4110 - aux_output_loss: 0.6994 - val_loss: 0.4250 - val_main_output_loss: 0.3933 - val_aux_output_loss: 0.7103\n",
      "Epoch 14/20\n",
      "363/363 [==============================] - 3s 7ms/step - loss: 0.4382 - main_output_loss: 0.4102 - aux_output_loss: 0.6906 - val_loss: 0.4189 - val_main_output_loss: 0.3875 - val_aux_output_loss: 0.7009\n",
      "Epoch 15/20\n",
      "363/363 [==============================] - 3s 8ms/step - loss: 0.4366 - main_output_loss: 0.4092 - aux_output_loss: 0.6830 - val_loss: 0.4175 - val_main_output_loss: 0.3874 - val_aux_output_loss: 0.6882\n",
      "Epoch 16/20\n",
      "363/363 [==============================] - 4s 10ms/step - loss: 0.4352 - main_output_loss: 0.4085 - aux_output_loss: 0.6753 - val_loss: 0.4141 - val_main_output_loss: 0.3850 - val_aux_output_loss: 0.6758\n",
      "Epoch 17/20\n",
      "363/363 [==============================] - 3s 7ms/step - loss: 0.4339 - main_output_loss: 0.4078 - aux_output_loss: 0.6689 - val_loss: 0.4137 - val_main_output_loss: 0.3857 - val_aux_output_loss: 0.6660\n",
      "Epoch 18/20\n",
      "363/363 [==============================] - 4s 10ms/step - loss: 0.4325 - main_output_loss: 0.4070 - aux_output_loss: 0.6622 - val_loss: 0.4137 - val_main_output_loss: 0.3871 - val_aux_output_loss: 0.6530\n",
      "Epoch 19/20\n",
      "363/363 [==============================] - 3s 9ms/step - loss: 0.4311 - main_output_loss: 0.4061 - aux_output_loss: 0.6560 - val_loss: 0.4105 - val_main_output_loss: 0.3842 - val_aux_output_loss: 0.6473\n",
      "Epoch 20/20\n",
      "363/363 [==============================] - 4s 10ms/step - loss: 0.4300 - main_output_loss: 0.4055 - aux_output_loss: 0.6503 - val_loss: 0.4169 - val_main_output_loss: 0.3927 - val_aux_output_loss: 0.6350\n"
     ]
    }
   ],
   "source": [
    "history = model.fit([X_train_A, X_train_B], [y_train, y_train], epochs=20,\n",
    "                    validation_data=([X_valid_A, X_valid_B], [y_valid, y_valid]))"
   ]
  },
  {
   "cell_type": "markdown",
   "id": "201260a0-3d27-4f3a-bc0e-9de27e55770c",
   "metadata": {},
   "source": [
    "When we evaluate the model, Keras will return the total loss, as well as all the individ‐\n",
    "ual losses:"
   ]
  },
  {
   "cell_type": "code",
   "execution_count": 31,
   "id": "50dd816a-62b4-40ae-83ee-3dc90034276e",
   "metadata": {},
   "outputs": [
    {
     "name": "stdout",
     "output_type": "stream",
     "text": [
      "162/162 [==============================] - 1s 6ms/step - loss: 0.4240 - main_output_loss: 0.4015 - aux_output_loss: 0.6268\n"
     ]
    }
   ],
   "source": [
    "total_loss, main_loss, aux_loss = model.evaluate(\n",
    "    [X_test_A, X_test_B], [y_test, y_test])\n",
    "y_pred_main, y_pred_aux = model.predict([X_new_A, X_new_B])"
   ]
  },
  {
   "cell_type": "code",
   "execution_count": 32,
   "id": "8452a424-0701-49e2-97d1-2820eda78304",
   "metadata": {},
   "outputs": [
    {
     "name": "stdout",
     "output_type": "stream",
     "text": [
      "0.4240031838417053 0.40146806836128235 0.6268199682235718\n"
     ]
    }
   ],
   "source": [
    "print(total_loss, main_loss, aux_loss)"
   ]
  },
  {
   "cell_type": "markdown",
   "id": "909831a4-b6aa-452f-866d-36ff25267f2e",
   "metadata": {},
   "source": [
    "Both the Sequential API and the Functional API are declarative: you start by declar‐\n",
    "ing which layers you want to use and how they should be connected, and only then\n",
    "can you start feeding the model some data for training or inference. This has many\n",
    "advantages: the model can easily be saved, cloned, shared, its structure can be dis‐\n",
    "played and analyzed, the framework can infer shapes and check types, so errors can\n",
    "be caught early (i.e., before any data ever goes through the model). It’s also fairly easy\n",
    "to debug, since the whole model is just a static graph of layers. But the flip side is just\n",
    "that: it’s static. Some models involve loops, varying shapes, conditional branching,\n",
    "and other dynamic behaviors. For such cases we can use Subclassing API"
   ]
  },
  {
   "cell_type": "markdown",
   "id": "1e2cf467-8d7a-4187-ac8b-f72203965615",
   "metadata": {},
   "source": [
    "## Building Dynamic Models Using the Subclassing API\n",
    "\n",
    "Simply subclass the Model class, create the layers you need in the constructor, and use\n",
    "them to perform the computations you want in the call() method.\n",
    "\n",
    "You can do pretty much anything you want in the call() method: for loops, if statements, low-level TensorFlow operations, your imagination is the limit. This makes it a great API for researchers experimenting with new ideas.\n",
    "\n",
    "However, this extra flexibility comes at a cost: your model’s architecture is hidden\n",
    "within the call() method, so Keras cannot easily inspect it, it cannot save or clone it,\n",
    "and when you call the summary() method, you only get a list of layers, without any\n",
    "information on how they are connected to each other. Moreover, Keras cannot check\n",
    "types and shapes ahead of time, and it is easier to make mistakes. So unless you really\n",
    "need that extra flexibility, you should probably stick to the Sequential API or the\n",
    "Functional API."
   ]
  },
  {
   "cell_type": "code",
   "execution_count": 35,
   "id": "49096613-d18b-44b8-a38a-bc93e3c208f8",
   "metadata": {},
   "outputs": [],
   "source": [
    "class WideAndDeepModel(keras.models.Model):\n",
    "    def __init__(self, units=30, activation=\"relu\", **kwargs):\n",
    "        super().__init__(**kwargs)\n",
    "        self.hidden1 = keras.layers.Dense(units, activation = activation)\n",
    "        self.hidden2 = keras.layers.Dense(units, activation = activation)\n",
    "        self.main_output = keras.layers.Dense(1)\n",
    "        self.aux_output = keras.layers.Dense(1)\n",
    "        \n",
    "    def call(self, inputs):\n",
    "        input_A, input_B = inputs\n",
    "        hidden1 = self.hidden1(input_B)\n",
    "        hidden2 = self.hidden2(hidden1)\n",
    "        concat = keras.layers.concatenate([input_A, hidden2])\n",
    "        main_output = self.main_output(concat)\n",
    "        aux_output = self.aux_output(hidden2)\n",
    "        return main_output, aux_output\n",
    "    \n",
    "model = WideAndDeepModel()"
   ]
  },
  {
   "cell_type": "code",
   "execution_count": 36,
   "id": "29cc74d7-fd67-4d08-b51d-8631ef45e570",
   "metadata": {},
   "outputs": [
    {
     "name": "stdout",
     "output_type": "stream",
     "text": [
      "Epoch 1/10\n",
      "363/363 [==============================] - 4s 9ms/step - loss: 2.6811 - output_1_loss: 2.3824 - output_2_loss: 5.3690 - val_loss: 4.0827 - val_output_1_loss: 3.6804 - val_output_2_loss: 7.7037\n",
      "Epoch 2/10\n",
      "363/363 [==============================] - 3s 8ms/step - loss: 1.0888 - output_1_loss: 0.7882 - output_2_loss: 3.7939 - val_loss: 1.8117 - val_output_1_loss: 0.9127 - val_output_2_loss: 9.9026\n",
      "Epoch 3/10\n",
      "363/363 [==============================] - 2s 7ms/step - loss: 0.8406 - output_1_loss: 0.6446 - output_2_loss: 2.6052 - val_loss: 1.6652 - val_output_1_loss: 0.6103 - val_output_2_loss: 11.1593\n",
      "Epoch 4/10\n",
      "363/363 [==============================] - 2s 6ms/step - loss: 0.7409 - output_1_loss: 0.5967 - output_2_loss: 2.0386 - val_loss: 1.6267 - val_output_1_loss: 0.5937 - val_output_2_loss: 10.9233\n",
      "Epoch 5/10\n",
      "363/363 [==============================] - 4s 12ms/step - loss: 0.6847 - output_1_loss: 0.5645 - output_2_loss: 1.7665 - val_loss: 1.4905 - val_output_1_loss: 0.5594 - val_output_2_loss: 9.8712\n",
      "Epoch 6/10\n",
      "363/363 [==============================] - 3s 9ms/step - loss: 0.6460 - output_1_loss: 0.5383 - output_2_loss: 1.6160 - val_loss: 1.3837 - val_output_1_loss: 0.5811 - val_output_2_loss: 8.6074\n",
      "Epoch 7/10\n",
      "363/363 [==============================] - 3s 7ms/step - loss: 0.6166 - output_1_loss: 0.5165 - output_2_loss: 1.5179 - val_loss: 1.2468 - val_output_1_loss: 0.5687 - val_output_2_loss: 7.3498\n",
      "Epoch 8/10\n",
      "363/363 [==============================] - 3s 9ms/step - loss: 0.5936 - output_1_loss: 0.4991 - output_2_loss: 1.4442 - val_loss: 1.0622 - val_output_1_loss: 0.4948 - val_output_2_loss: 6.1687\n",
      "Epoch 9/10\n",
      "363/363 [==============================] - 3s 9ms/step - loss: 0.5736 - output_1_loss: 0.4835 - output_2_loss: 1.3850 - val_loss: 0.9588 - val_output_1_loss: 0.4864 - val_output_2_loss: 5.2100\n",
      "Epoch 10/10\n",
      "363/363 [==============================] - 4s 11ms/step - loss: 0.5576 - output_1_loss: 0.4712 - output_2_loss: 1.3350 - val_loss: 0.8692 - val_output_1_loss: 0.4772 - val_output_2_loss: 4.3979\n",
      "162/162 [==============================] - 1s 4ms/step - loss: 0.5382 - output_1_loss: 0.4546 - output_2_loss: 1.2903\n"
     ]
    }
   ],
   "source": [
    "model.compile(loss=\"mse\", loss_weights=[0.9, 0.1], optimizer=keras.optimizers.SGD(learning_rate=1e-3))\n",
    "history = model.fit((X_train_A, X_train_B), (y_train, y_train), epochs=10,\n",
    "                    validation_data=((X_valid_A, X_valid_B), (y_valid, y_valid)))\n",
    "total_loss, main_loss, aux_loss = model.evaluate((X_test_A, X_test_B), (y_test, y_test))\n",
    "y_pred_main, y_pred_aux = model.predict((X_new_A, X_new_B))"
   ]
  },
  {
   "cell_type": "code",
   "execution_count": 37,
   "id": "0a9d04b8-d183-4280-a266-550c6a77c5da",
   "metadata": {},
   "outputs": [
    {
     "data": {
      "text/plain": [
       "(array([[0.37175584],\n",
       "        [1.6912113 ],\n",
       "        [2.7433438 ]], dtype=float32),\n",
       " array([[1.2221942],\n",
       "        [1.3960966],\n",
       "        [2.066905 ]], dtype=float32))"
      ]
     },
     "execution_count": 37,
     "metadata": {},
     "output_type": "execute_result"
    }
   ],
   "source": [
    "y_pred_main[:3], y_pred_aux[:3]"
   ]
  },
  {
   "cell_type": "code",
   "execution_count": null,
   "id": "7a78cfe3-d72f-416c-85a6-9a432d264ac3",
   "metadata": {},
   "outputs": [],
   "source": []
  }
 ],
 "metadata": {
  "kernelspec": {
   "display_name": "Python 3 (ipykernel)",
   "language": "python",
   "name": "python3"
  },
  "language_info": {
   "codemirror_mode": {
    "name": "ipython",
    "version": 3
   },
   "file_extension": ".py",
   "mimetype": "text/x-python",
   "name": "python",
   "nbconvert_exporter": "python",
   "pygments_lexer": "ipython3",
   "version": "3.7.13"
  }
 },
 "nbformat": 4,
 "nbformat_minor": 5
}
